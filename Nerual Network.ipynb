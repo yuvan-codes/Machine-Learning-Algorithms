{
 "cells": [
  {
   "cell_type": "markdown",
   "id": "194b139a",
   "metadata": {
    "papermill": {
     "duration": 0.016577,
     "end_time": "2024-02-29T19:02:37.467054",
     "exception": false,
     "start_time": "2024-02-29T19:02:37.450477",
     "status": "completed"
    },
    "tags": []
   },
   "source": [
    "# Using Linear Dataset"
   ]
  },
  {
   "cell_type": "markdown",
   "id": "72747301",
   "metadata": {
    "papermill": {
     "duration": 0.015274,
     "end_time": "2024-02-29T19:02:37.498586",
     "exception": false,
     "start_time": "2024-02-29T19:02:37.483312",
     "status": "completed"
    },
    "tags": []
   },
   "source": [
    "# Feed Forward without bias"
   ]
  },
  {
   "cell_type": "code",
   "execution_count": 1,
   "id": "d37c7712",
   "metadata": {
    "execution": {
     "iopub.execute_input": "2024-02-29T19:02:37.530702Z",
     "iopub.status.busy": "2024-02-29T19:02:37.530335Z",
     "iopub.status.idle": "2024-02-29T19:02:38.839354Z",
     "shell.execute_reply": "2024-02-29T19:02:38.838379Z"
    },
    "papermill": {
     "duration": 1.32808,
     "end_time": "2024-02-29T19:02:38.841492",
     "exception": false,
     "start_time": "2024-02-29T19:02:37.513412",
     "status": "completed"
    },
    "tags": []
   },
   "outputs": [
    {
     "name": "stdout",
     "output_type": "stream",
     "text": [
      "Epoch: 0, Loss: 1.1532276088634759\n",
      "Epoch: 1, Loss: 1.1532276088634759\n",
      "Epoch: 2, Loss: 1.1532276088634759\n",
      "Epoch: 3, Loss: 1.1532276088634759\n",
      "Epoch: 4, Loss: 1.1532276088634759\n",
      "Epoch: 5, Loss: 1.1532276088634759\n",
      "Epoch: 6, Loss: 1.1532276088634759\n",
      "Epoch: 7, Loss: 1.1532276088634759\n",
      "Epoch: 8, Loss: 1.1532276088634759\n",
      "Epoch: 9, Loss: 1.1532276088634759\n",
      "Epoch: 10, Loss: 1.1532276088634759\n",
      "Epoch: 11, Loss: 1.1532276088634759\n",
      "Epoch: 12, Loss: 1.1532276088634759\n",
      "Epoch: 13, Loss: 1.1532276088634759\n",
      "Epoch: 14, Loss: 1.1532276088634759\n",
      "Epoch: 15, Loss: 1.1532276088634759\n",
      "Epoch: 16, Loss: 1.1532276088634759\n",
      "Epoch: 17, Loss: 1.1532276088634759\n",
      "Epoch: 18, Loss: 1.1532276088634759\n",
      "Epoch: 19, Loss: 1.1532276088634759\n",
      "Epoch: 20, Loss: 1.1532276088634759\n",
      "Epoch: 21, Loss: 1.1532276088634759\n",
      "Epoch: 22, Loss: 1.1532276088634759\n",
      "Epoch: 23, Loss: 1.1532276088634759\n",
      "Epoch: 24, Loss: 1.1532276088634759\n",
      "Epoch: 25, Loss: 1.1532276088634759\n",
      "Epoch: 26, Loss: 1.1532276088634759\n",
      "Epoch: 27, Loss: 1.1532276088634759\n",
      "Epoch: 28, Loss: 1.1532276088634759\n",
      "Epoch: 29, Loss: 1.1532276088634759\n",
      "Epoch: 30, Loss: 1.1532276088634759\n",
      "Epoch: 31, Loss: 1.1532276088634759\n",
      "Epoch: 32, Loss: 1.1532276088634759\n",
      "Epoch: 33, Loss: 1.1532276088634759\n",
      "Epoch: 34, Loss: 1.1532276088634759\n",
      "Epoch: 35, Loss: 1.1532276088634759\n",
      "Epoch: 36, Loss: 1.1532276088634759\n",
      "Epoch: 37, Loss: 1.1532276088634759\n",
      "Epoch: 38, Loss: 1.1532276088634759\n",
      "Epoch: 39, Loss: 1.1532276088634759\n",
      "Epoch: 40, Loss: 1.1532276088634759\n",
      "Epoch: 41, Loss: 1.1532276088634759\n",
      "Epoch: 42, Loss: 1.1532276088634759\n",
      "Epoch: 43, Loss: 1.1532276088634759\n",
      "Epoch: 44, Loss: 1.1532276088634759\n",
      "Epoch: 45, Loss: 1.1532276088634759\n",
      "Epoch: 46, Loss: 1.1532276088634759\n",
      "Epoch: 47, Loss: 1.1532276088634759\n",
      "Epoch: 48, Loss: 1.1532276088634759\n",
      "Epoch: 49, Loss: 1.1532276088634759\n"
     ]
    }
   ],
   "source": [
    "import numpy as np\n",
    "from sklearn import datasets\n",
    "from sklearn.model_selection import train_test_split\n",
    "\n",
    "# Load the iris dataset\n",
    "iris = datasets.load_iris()\n",
    "X = iris.data\n",
    "y = iris.target\n",
    "\n",
    "X=(X - np.mean(X, axis=0)) / np.std(X, axis=0)\n",
    "num_classes = len(np.unique(y))\n",
    "y=np.eye(num_classes)[y]\n",
    "\n",
    "\n",
    "X_train, X_test, y_train, y_test = train_test_split(X,y,test_size=0.2,random_state=42)\n",
    "\n",
    "input_size = X.shape[1]\n",
    "hidden_size = 8\n",
    "output_size = num_classes\n",
    "\n",
    "weights_i=np.random.rand(input_size, hidden_size)\n",
    "biases=np.zeros((1, hidden_size))\n",
    "weights_o=np.random.rand(hidden_size, output_size)\n",
    "biases_o=np.zeros((1, output_size))\n",
    "\n",
    "def feed_forward(inputs):\n",
    "    hidden_output = sigmoid(np.dot(inputs, weights_i))\n",
    "    final_output = softmax(np.dot(hidden_output,weights_o))\n",
    "    return final_output\n",
    "\n",
    "\n",
    "def sigmoid(x):\n",
    "    return 1 / (1 + np.exp(-x))\n",
    "def softmax(x):\n",
    "    exp_x = np.exp(x - np.max(x, axis=1, keepdims=True))\n",
    "    return exp_x / np.sum(exp_x, axis=1, keepdims=True)\n",
    "\n",
    "\n",
    "\n",
    "epochs = 50\n",
    "learning_rate = 0.01\n",
    "\n",
    "for epoch in range(epochs):\n",
    "    output = feed_forward(X_train)\n",
    "    if epoch%100==0:\n",
    "        loss = -np.sum(y_train * np.log(output)) / len(y_train)\n",
    "    print(f\"Epoch: {epoch}, Loss: {loss}\")"
   ]
  },
  {
   "cell_type": "code",
   "execution_count": 2,
   "id": "c2aa7174",
   "metadata": {
    "execution": {
     "iopub.execute_input": "2024-02-29T19:02:38.872959Z",
     "iopub.status.busy": "2024-02-29T19:02:38.872506Z",
     "iopub.status.idle": "2024-02-29T19:02:38.878246Z",
     "shell.execute_reply": "2024-02-29T19:02:38.877372Z"
    },
    "papermill": {
     "duration": 0.02421,
     "end_time": "2024-02-29T19:02:38.880507",
     "exception": false,
     "start_time": "2024-02-29T19:02:38.856297",
     "status": "completed"
    },
    "tags": []
   },
   "outputs": [
    {
     "name": "stdout",
     "output_type": "stream",
     "text": [
      "Test Accuracy: 0.36666666666666664\n"
     ]
    }
   ],
   "source": [
    "predictions = np.argmax(feed_forward(X_test), axis=1)\n",
    "accuracy = np.mean(predictions == np.argmax(y_test, axis=1))\n",
    "print(f\"Test Accuracy: {accuracy}\")"
   ]
  },
  {
   "cell_type": "markdown",
   "id": "9926ca9f",
   "metadata": {
    "papermill": {
     "duration": 0.014624,
     "end_time": "2024-02-29T19:02:38.910153",
     "exception": false,
     "start_time": "2024-02-29T19:02:38.895529",
     "status": "completed"
    },
    "tags": []
   },
   "source": [
    "# Feed Forward with bias"
   ]
  },
  {
   "cell_type": "code",
   "execution_count": 3,
   "id": "04518635",
   "metadata": {
    "execution": {
     "iopub.execute_input": "2024-02-29T19:02:38.940540Z",
     "iopub.status.busy": "2024-02-29T19:02:38.940283Z",
     "iopub.status.idle": "2024-02-29T19:02:38.959723Z",
     "shell.execute_reply": "2024-02-29T19:02:38.958686Z"
    },
    "papermill": {
     "duration": 0.036786,
     "end_time": "2024-02-29T19:02:38.961581",
     "exception": false,
     "start_time": "2024-02-29T19:02:38.924795",
     "status": "completed"
    },
    "tags": []
   },
   "outputs": [
    {
     "name": "stdout",
     "output_type": "stream",
     "text": [
      "Epoch: 0, Loss: 1.1127961014767498\n",
      "Epoch: 1, Loss: 1.1127961014767498\n",
      "Epoch: 2, Loss: 1.1127961014767498\n",
      "Epoch: 3, Loss: 1.1127961014767498\n",
      "Epoch: 4, Loss: 1.1127961014767498\n",
      "Epoch: 5, Loss: 1.1127961014767498\n",
      "Epoch: 6, Loss: 1.1127961014767498\n",
      "Epoch: 7, Loss: 1.1127961014767498\n",
      "Epoch: 8, Loss: 1.1127961014767498\n",
      "Epoch: 9, Loss: 1.1127961014767498\n",
      "Epoch: 10, Loss: 1.1127961014767498\n",
      "Epoch: 11, Loss: 1.1127961014767498\n",
      "Epoch: 12, Loss: 1.1127961014767498\n",
      "Epoch: 13, Loss: 1.1127961014767498\n",
      "Epoch: 14, Loss: 1.1127961014767498\n",
      "Epoch: 15, Loss: 1.1127961014767498\n",
      "Epoch: 16, Loss: 1.1127961014767498\n",
      "Epoch: 17, Loss: 1.1127961014767498\n",
      "Epoch: 18, Loss: 1.1127961014767498\n",
      "Epoch: 19, Loss: 1.1127961014767498\n",
      "Epoch: 20, Loss: 1.1127961014767498\n",
      "Epoch: 21, Loss: 1.1127961014767498\n",
      "Epoch: 22, Loss: 1.1127961014767498\n",
      "Epoch: 23, Loss: 1.1127961014767498\n",
      "Epoch: 24, Loss: 1.1127961014767498\n",
      "Epoch: 25, Loss: 1.1127961014767498\n",
      "Epoch: 26, Loss: 1.1127961014767498\n",
      "Epoch: 27, Loss: 1.1127961014767498\n",
      "Epoch: 28, Loss: 1.1127961014767498\n",
      "Epoch: 29, Loss: 1.1127961014767498\n",
      "Epoch: 30, Loss: 1.1127961014767498\n",
      "Epoch: 31, Loss: 1.1127961014767498\n",
      "Epoch: 32, Loss: 1.1127961014767498\n",
      "Epoch: 33, Loss: 1.1127961014767498\n",
      "Epoch: 34, Loss: 1.1127961014767498\n",
      "Epoch: 35, Loss: 1.1127961014767498\n",
      "Epoch: 36, Loss: 1.1127961014767498\n",
      "Epoch: 37, Loss: 1.1127961014767498\n",
      "Epoch: 38, Loss: 1.1127961014767498\n",
      "Epoch: 39, Loss: 1.1127961014767498\n",
      "Epoch: 40, Loss: 1.1127961014767498\n",
      "Epoch: 41, Loss: 1.1127961014767498\n",
      "Epoch: 42, Loss: 1.1127961014767498\n",
      "Epoch: 43, Loss: 1.1127961014767498\n",
      "Epoch: 44, Loss: 1.1127961014767498\n",
      "Epoch: 45, Loss: 1.1127961014767498\n",
      "Epoch: 46, Loss: 1.1127961014767498\n",
      "Epoch: 47, Loss: 1.1127961014767498\n",
      "Epoch: 48, Loss: 1.1127961014767498\n",
      "Epoch: 49, Loss: 1.1127961014767498\n"
     ]
    }
   ],
   "source": [
    "import numpy as np\n",
    "from sklearn import datasets\n",
    "from sklearn.model_selection import train_test_split\n",
    "\n",
    "# Load the iris dataset\n",
    "iris = datasets.load_iris()\n",
    "X = iris.data\n",
    "y = iris.target\n",
    "\n",
    "X=(X - np.mean(X, axis=0)) / np.std(X, axis=0)\n",
    "num_classes = len(np.unique(y))\n",
    "y=np.eye(num_classes)[y]\n",
    "\n",
    "\n",
    "X_train, X_test, y_train, y_test = train_test_split(X,y,test_size=0.2,random_state=42)\n",
    "\n",
    "input_size = X.shape[1]\n",
    "hidden_size = 8\n",
    "output_size = num_classes\n",
    "\n",
    "weights_i=np.random.rand(input_size, hidden_size)\n",
    "biases=np.zeros((1, hidden_size))\n",
    "weights_o=np.random.rand(hidden_size, output_size)\n",
    "biases_o=np.zeros((1, output_size))\n",
    "\n",
    "def feed_forward(inputs):\n",
    "    hidden_output = sigmoid(np.dot(inputs, weights_i) + biases)\n",
    "    final_output = softmax(np.dot(hidden_output,weights_o) + biases_o)\n",
    "    return final_output\n",
    "\n",
    "\n",
    "def sigmoid(x):\n",
    "    return 1 / (1 + np.exp(-x))\n",
    "def softmax(x):\n",
    "    exp_x = np.exp(x - np.max(x, axis=1, keepdims=True))\n",
    "    return exp_x / np.sum(exp_x, axis=1, keepdims=True)\n",
    "\n",
    "\n",
    "\n",
    "epochs = 50\n",
    "learning_rate = 0.01\n",
    "\n",
    "for epoch in range(epochs):\n",
    "    output = feed_forward(X_train)\n",
    "    if epoch%100==0:\n",
    "        loss = -np.sum(y_train * np.log(output)) / len(y_train)\n",
    "    print(f\"Epoch: {epoch}, Loss: {loss}\")"
   ]
  },
  {
   "cell_type": "code",
   "execution_count": 4,
   "id": "f52d491d",
   "metadata": {
    "execution": {
     "iopub.execute_input": "2024-02-29T19:02:38.992152Z",
     "iopub.status.busy": "2024-02-29T19:02:38.991864Z",
     "iopub.status.idle": "2024-02-29T19:02:38.997202Z",
     "shell.execute_reply": "2024-02-29T19:02:38.996341Z"
    },
    "papermill": {
     "duration": 0.023009,
     "end_time": "2024-02-29T19:02:38.999177",
     "exception": false,
     "start_time": "2024-02-29T19:02:38.976168",
     "status": "completed"
    },
    "tags": []
   },
   "outputs": [
    {
     "name": "stdout",
     "output_type": "stream",
     "text": [
      "Test Accuracy: 0.26666666666666666\n"
     ]
    }
   ],
   "source": [
    "predictions = np.argmax(feed_forward(X_test), axis=1)\n",
    "accuracy = np.mean(predictions == np.argmax(y_test, axis=1))\n",
    "print(f\"Test Accuracy: {accuracy}\")"
   ]
  },
  {
   "cell_type": "markdown",
   "id": "6a2f167a",
   "metadata": {
    "papermill": {
     "duration": 0.014505,
     "end_time": "2024-02-29T19:02:39.028441",
     "exception": false,
     "start_time": "2024-02-29T19:02:39.013936",
     "status": "completed"
    },
    "tags": []
   },
   "source": [
    "# Back Propagation"
   ]
  },
  {
   "cell_type": "code",
   "execution_count": 5,
   "id": "5264bf6e",
   "metadata": {
    "execution": {
     "iopub.execute_input": "2024-02-29T19:02:39.059890Z",
     "iopub.status.busy": "2024-02-29T19:02:39.059243Z",
     "iopub.status.idle": "2024-02-29T19:02:56.286279Z",
     "shell.execute_reply": "2024-02-29T19:02:56.285308Z"
    },
    "papermill": {
     "duration": 17.24509,
     "end_time": "2024-02-29T19:02:56.288301",
     "exception": false,
     "start_time": "2024-02-29T19:02:39.043211",
     "status": "completed"
    },
    "tags": []
   },
   "outputs": [
    {
     "name": "stderr",
     "output_type": "stream",
     "text": [
      "2024-02-29 19:02:40.820923: E external/local_xla/xla/stream_executor/cuda/cuda_dnn.cc:9261] Unable to register cuDNN factory: Attempting to register factory for plugin cuDNN when one has already been registered\n",
      "2024-02-29 19:02:40.821024: E external/local_xla/xla/stream_executor/cuda/cuda_fft.cc:607] Unable to register cuFFT factory: Attempting to register factory for plugin cuFFT when one has already been registered\n",
      "2024-02-29 19:02:40.957181: E external/local_xla/xla/stream_executor/cuda/cuda_blas.cc:1515] Unable to register cuBLAS factory: Attempting to register factory for plugin cuBLAS when one has already been registered\n",
      "/opt/conda/lib/python3.10/site-packages/keras/src/layers/core/dense.py:85: UserWarning: Do not pass an `input_shape`/`input_dim` argument to a layer. When using Sequential models, prefer using an `Input(shape)` object as the first layer in the model instead.\n",
      "  super().__init__(activity_regularizer=activity_regularizer, **kwargs)\n"
     ]
    },
    {
     "name": "stdout",
     "output_type": "stream",
     "text": [
      "Epoch 1/10\n",
      "\u001b[1m1/5\u001b[0m \u001b[32m━━━━\u001b[0m\u001b[37m━━━━━━━━━━━━━━━━\u001b[0m \u001b[1m7s\u001b[0m 2s/step - accuracy: 0.0312 - loss: 2.4497"
     ]
    },
    {
     "name": "stderr",
     "output_type": "stream",
     "text": [
      "WARNING: All log messages before absl::InitializeLog() is called are written to STDERR\n",
      "I0000 00:00:1709233374.342977      73 device_compiler.h:186] Compiled cluster using XLA!  This line is logged at most once for the lifetime of the process.\n"
     ]
    },
    {
     "name": "stdout",
     "output_type": "stream",
     "text": [
      "\u001b[1m5/5\u001b[0m \u001b[32m━━━━━━━━━━━━━━━━━━━━\u001b[0m\u001b[37m\u001b[0m \u001b[1m3s\u001b[0m 346ms/step - accuracy: 0.0686 - loss: 2.3659 - val_accuracy: 0.2222 - val_loss: 2.1388\n",
      "Epoch 2/10\n",
      "\u001b[1m5/5\u001b[0m \u001b[32m━━━━━━━━━━━━━━━━━━━━\u001b[0m\u001b[37m\u001b[0m \u001b[1m0s\u001b[0m 7ms/step - accuracy: 0.2759 - loss: 2.0563 - val_accuracy: 0.4444 - val_loss: 1.8328\n",
      "Epoch 3/10\n",
      "\u001b[1m5/5\u001b[0m \u001b[32m━━━━━━━━━━━━━━━━━━━━\u001b[0m\u001b[37m\u001b[0m \u001b[1m0s\u001b[0m 7ms/step - accuracy: 0.5626 - loss: 1.7304 - val_accuracy: 0.6944 - val_loss: 1.5482\n",
      "Epoch 4/10\n",
      "\u001b[1m5/5\u001b[0m \u001b[32m━━━━━━━━━━━━━━━━━━━━\u001b[0m\u001b[37m\u001b[0m \u001b[1m0s\u001b[0m 8ms/step - accuracy: 0.6903 - loss: 1.5291 - val_accuracy: 0.8333 - val_loss: 1.2872\n",
      "Epoch 5/10\n",
      "\u001b[1m5/5\u001b[0m \u001b[32m━━━━━━━━━━━━━━━━━━━━\u001b[0m\u001b[37m\u001b[0m \u001b[1m0s\u001b[0m 7ms/step - accuracy: 0.7951 - loss: 1.2515 - val_accuracy: 0.8611 - val_loss: 1.0566\n",
      "Epoch 6/10\n",
      "\u001b[1m5/5\u001b[0m \u001b[32m━━━━━━━━━━━━━━━━━━━━\u001b[0m\u001b[37m\u001b[0m \u001b[1m0s\u001b[0m 7ms/step - accuracy: 0.9053 - loss: 1.0103 - val_accuracy: 0.9167 - val_loss: 0.8626\n",
      "Epoch 7/10\n",
      "\u001b[1m5/5\u001b[0m \u001b[32m━━━━━━━━━━━━━━━━━━━━\u001b[0m\u001b[37m\u001b[0m \u001b[1m0s\u001b[0m 7ms/step - accuracy: 0.9238 - loss: 0.8764 - val_accuracy: 0.9444 - val_loss: 0.7011\n",
      "Epoch 8/10\n",
      "\u001b[1m5/5\u001b[0m \u001b[32m━━━━━━━━━━━━━━━━━━━━\u001b[0m\u001b[37m\u001b[0m \u001b[1m0s\u001b[0m 7ms/step - accuracy: 0.9316 - loss: 0.7660 - val_accuracy: 0.9444 - val_loss: 0.5680\n",
      "Epoch 9/10\n",
      "\u001b[1m5/5\u001b[0m \u001b[32m━━━━━━━━━━━━━━━━━━━━\u001b[0m\u001b[37m\u001b[0m \u001b[1m0s\u001b[0m 7ms/step - accuracy: 0.9478 - loss: 0.5982 - val_accuracy: 0.9722 - val_loss: 0.4631\n",
      "Epoch 10/10\n",
      "\u001b[1m5/5\u001b[0m \u001b[32m━━━━━━━━━━━━━━━━━━━━\u001b[0m\u001b[37m\u001b[0m \u001b[1m0s\u001b[0m 7ms/step - accuracy: 0.9677 - loss: 0.5364 - val_accuracy: 0.9722 - val_loss: 0.3832\n",
      "\u001b[1m2/2\u001b[0m \u001b[32m━━━━━━━━━━━━━━━━━━━━\u001b[0m\u001b[37m\u001b[0m \u001b[1m0s\u001b[0m 5ms/step - accuracy: 0.9711 - loss: 0.4162 \n",
      "Test Accuracy: 0.9722222089767456\n"
     ]
    }
   ],
   "source": [
    "from sklearn.datasets import load_wine\n",
    "from sklearn.model_selection import train_test_split\n",
    "from sklearn.preprocessing import StandardScaler\n",
    "from tensorflow.keras import models, layers\n",
    "import numpy as np\n",
    "\n",
    "# Load the Wine dataset\n",
    "wine = load_wine()\n",
    "X = wine.data\n",
    "y = wine.target\n",
    "\n",
    "# Split the dataset into training and testing sets\n",
    "X_train, X_test, y_train, y_test = train_test_split(X, y, test_size=0.2, random_state=42)\n",
    "\n",
    "# Standardize the features\n",
    "scaler = StandardScaler()\n",
    "X_train_scaled = scaler.fit_transform(X_train)\n",
    "X_test_scaled = scaler.transform(X_test)\n",
    "\n",
    "# Build the Back Propagation neural network for the Wine dataset\n",
    "model_bp = models.Sequential([\n",
    "    layers.Dense(128, activation='relu', input_shape=(13,)),  # Input layer with 13 features and ReLU activation\n",
    "    layers.Dense(10, activation='softmax')                   # Output layer with 10 neurons for wine classes\n",
    "])\n",
    "\n",
    "# Compile the model\n",
    "model_bp.compile(optimizer='adam', \n",
    "                 loss='sparse_categorical_crossentropy',  # Use 'sparse_categorical_crossentropy' for integer labels\n",
    "                 metrics=['accuracy'])\n",
    "\n",
    "# Train the model\n",
    "model_bp.fit(X_train_scaled, y_train, epochs=10, validation_data=(X_test_scaled, y_test))\n",
    "\n",
    "#Evaluating the model\n",
    "test_loss, test_acc = model_bp.evaluate(X_test_scaled, y_test)\n",
    "print(f'Test Accuracy: {test_acc}')"
   ]
  },
  {
   "cell_type": "markdown",
   "id": "b0e5db54",
   "metadata": {
    "papermill": {
     "duration": 0.017852,
     "end_time": "2024-02-29T19:02:56.324909",
     "exception": false,
     "start_time": "2024-02-29T19:02:56.307057",
     "status": "completed"
    },
    "tags": []
   },
   "source": [
    "# Multi-Layered Perceptron"
   ]
  },
  {
   "cell_type": "code",
   "execution_count": 6,
   "id": "564629c0",
   "metadata": {
    "execution": {
     "iopub.execute_input": "2024-02-29T19:02:56.363693Z",
     "iopub.status.busy": "2024-02-29T19:02:56.363349Z",
     "iopub.status.idle": "2024-02-29T19:03:00.303173Z",
     "shell.execute_reply": "2024-02-29T19:03:00.301931Z"
    },
    "papermill": {
     "duration": 3.961383,
     "end_time": "2024-02-29T19:03:00.305088",
     "exception": false,
     "start_time": "2024-02-29T19:02:56.343705",
     "status": "completed"
    },
    "tags": []
   },
   "outputs": [
    {
     "name": "stdout",
     "output_type": "stream",
     "text": [
      "Epoch 1/10\n",
      "\u001b[1m5/5\u001b[0m \u001b[32m━━━━━━━━━━━━━━━━━━━━\u001b[0m\u001b[37m\u001b[0m \u001b[1m3s\u001b[0m 428ms/step - accuracy: 0.0000e+00 - loss: 2.6484 - val_accuracy: 0.1389 - val_loss: 2.1908\n",
      "Epoch 2/10\n",
      "\u001b[1m5/5\u001b[0m \u001b[32m━━━━━━━━━━━━━━━━━━━━\u001b[0m\u001b[37m\u001b[0m \u001b[1m0s\u001b[0m 7ms/step - accuracy: 0.2631 - loss: 2.1751 - val_accuracy: 0.6667 - val_loss: 1.8117\n",
      "Epoch 3/10\n",
      "\u001b[1m5/5\u001b[0m \u001b[32m━━━━━━━━━━━━━━━━━━━━\u001b[0m\u001b[37m\u001b[0m \u001b[1m0s\u001b[0m 7ms/step - accuracy: 0.7356 - loss: 1.8153 - val_accuracy: 0.8889 - val_loss: 1.4592\n",
      "Epoch 4/10\n",
      "\u001b[1m5/5\u001b[0m \u001b[32m━━━━━━━━━━━━━━━━━━━━\u001b[0m\u001b[37m\u001b[0m \u001b[1m0s\u001b[0m 7ms/step - accuracy: 0.9418 - loss: 1.4488 - val_accuracy: 0.8889 - val_loss: 1.1254\n",
      "Epoch 5/10\n",
      "\u001b[1m5/5\u001b[0m \u001b[32m━━━━━━━━━━━━━━━━━━━━\u001b[0m\u001b[37m\u001b[0m \u001b[1m0s\u001b[0m 7ms/step - accuracy: 0.9380 - loss: 1.1402 - val_accuracy: 0.9444 - val_loss: 0.8218\n",
      "Epoch 6/10\n",
      "\u001b[1m5/5\u001b[0m \u001b[32m━━━━━━━━━━━━━━━━━━━━\u001b[0m\u001b[37m\u001b[0m \u001b[1m0s\u001b[0m 7ms/step - accuracy: 0.9486 - loss: 0.8518 - val_accuracy: 0.9444 - val_loss: 0.5690\n",
      "Epoch 7/10\n",
      "\u001b[1m5/5\u001b[0m \u001b[32m━━━━━━━━━━━━━━━━━━━━\u001b[0m\u001b[37m\u001b[0m \u001b[1m0s\u001b[0m 7ms/step - accuracy: 0.9757 - loss: 0.5545 - val_accuracy: 0.9444 - val_loss: 0.3850\n",
      "Epoch 8/10\n",
      "\u001b[1m5/5\u001b[0m \u001b[32m━━━━━━━━━━━━━━━━━━━━\u001b[0m\u001b[37m\u001b[0m \u001b[1m0s\u001b[0m 7ms/step - accuracy: 0.9442 - loss: 0.4225 - val_accuracy: 0.9722 - val_loss: 0.2591\n",
      "Epoch 9/10\n",
      "\u001b[1m5/5\u001b[0m \u001b[32m━━━━━━━━━━━━━━━━━━━━\u001b[0m\u001b[37m\u001b[0m \u001b[1m0s\u001b[0m 7ms/step - accuracy: 0.9772 - loss: 0.2685 - val_accuracy: 0.9722 - val_loss: 0.1802\n",
      "Epoch 10/10\n",
      "\u001b[1m5/5\u001b[0m \u001b[32m━━━━━━━━━━━━━━━━━━━━\u001b[0m\u001b[37m\u001b[0m \u001b[1m0s\u001b[0m 7ms/step - accuracy: 0.9724 - loss: 0.2162 - val_accuracy: 0.9722 - val_loss: 0.1305\n",
      "\u001b[1m2/2\u001b[0m \u001b[32m━━━━━━━━━━━━━━━━━━━━\u001b[0m\u001b[37m\u001b[0m \u001b[1m0s\u001b[0m 5ms/step - accuracy: 0.9711 - loss: 0.1451 \n",
      "Test Accuracy: 0.9722222089767456\n"
     ]
    }
   ],
   "source": [
    "# Build the multilayer perceptron (MLP) for the Wine dataset\n",
    "model_mlp = models.Sequential([\n",
    "    layers.Dense(128, activation='relu', input_shape=(13,)),  # Input layer with 13 features and ReLU activation\n",
    "    layers.Dense(64, activation='relu'),                     # First hidden layer with 64 neurons and ReLU activation\n",
    "    layers.Dense(10, activation='softmax')                   # Output layer with 10 neurons for wine classes\n",
    "])\n",
    "\n",
    "# Compile the model\n",
    "model_mlp.compile(optimizer='adam', \n",
    "                  loss='sparse_categorical_crossentropy',  # Use 'sparse_categorical_crossentropy' for integer labels\n",
    "                  metrics=['accuracy'])\n",
    "\n",
    "# Train the model\n",
    "model_mlp.fit(X_train_scaled, y_train, epochs=10, validation_data=(X_test_scaled, y_test))\n",
    "\n",
    "#Evaluating the model\n",
    "test_loss, test_acc = model_mlp.evaluate(X_test_scaled, y_test)\n",
    "print(f'Test Accuracy: {test_acc}')"
   ]
  },
  {
   "cell_type": "markdown",
   "id": "e020373a",
   "metadata": {
    "papermill": {
     "duration": 0.020324,
     "end_time": "2024-02-29T19:03:00.346252",
     "exception": false,
     "start_time": "2024-02-29T19:03:00.325928",
     "status": "completed"
    },
    "tags": []
   },
   "source": [
    "# Using Non-Linear dataset"
   ]
  },
  {
   "cell_type": "markdown",
   "id": "d71408f7",
   "metadata": {
    "papermill": {
     "duration": 0.020039,
     "end_time": "2024-02-29T19:03:00.386853",
     "exception": false,
     "start_time": "2024-02-29T19:03:00.366814",
     "status": "completed"
    },
    "tags": []
   },
   "source": [
    "# Handwriting Recognition (Digits)"
   ]
  },
  {
   "cell_type": "code",
   "execution_count": 7,
   "id": "883feab1",
   "metadata": {
    "execution": {
     "iopub.execute_input": "2024-02-29T19:03:00.429132Z",
     "iopub.status.busy": "2024-02-29T19:03:00.428360Z",
     "iopub.status.idle": "2024-02-29T19:03:00.432829Z",
     "shell.execute_reply": "2024-02-29T19:03:00.431927Z"
    },
    "papermill": {
     "duration": 0.027736,
     "end_time": "2024-02-29T19:03:00.434748",
     "exception": false,
     "start_time": "2024-02-29T19:03:00.407012",
     "status": "completed"
    },
    "tags": []
   },
   "outputs": [],
   "source": [
    "import tensorflow as tf\n",
    "from tensorflow.keras import layers\n",
    "\n",
    "#I am using the famous MNIST dataset for the handwwritten digits"
   ]
  },
  {
   "cell_type": "code",
   "execution_count": 8,
   "id": "15afcc93",
   "metadata": {
    "execution": {
     "iopub.execute_input": "2024-02-29T19:03:00.476754Z",
     "iopub.status.busy": "2024-02-29T19:03:00.476476Z",
     "iopub.status.idle": "2024-02-29T19:03:01.005999Z",
     "shell.execute_reply": "2024-02-29T19:03:01.004956Z"
    },
    "papermill": {
     "duration": 0.553233,
     "end_time": "2024-02-29T19:03:01.008407",
     "exception": false,
     "start_time": "2024-02-29T19:03:00.455174",
     "status": "completed"
    },
    "tags": []
   },
   "outputs": [
    {
     "name": "stdout",
     "output_type": "stream",
     "text": [
      "Downloading data from https://storage.googleapis.com/tensorflow/tf-keras-datasets/mnist.npz\n",
      "\u001b[1m11490434/11490434\u001b[0m \u001b[32m━━━━━━━━━━━━━━━━━━━━\u001b[0m\u001b[37m\u001b[0m \u001b[1m0s\u001b[0m 0us/step\n"
     ]
    }
   ],
   "source": [
    "#Test train Split\n",
    "(X_train, y_train), (X_test, y_test) = tf.keras.datasets.mnist.load_data()\n",
    "#Normalize pixel values to be between 0 and 1\n",
    "X_train, X_test = X_train / 255.0, X_test / 255.0"
   ]
  },
  {
   "cell_type": "markdown",
   "id": "7adf765a",
   "metadata": {
    "papermill": {
     "duration": 0.020655,
     "end_time": "2024-02-29T19:03:01.050429",
     "exception": false,
     "start_time": "2024-02-29T19:03:01.029774",
     "status": "completed"
    },
    "tags": []
   },
   "source": [
    "# Back Propagation Network"
   ]
  },
  {
   "cell_type": "code",
   "execution_count": 9,
   "id": "62c66e77",
   "metadata": {
    "execution": {
     "iopub.execute_input": "2024-02-29T19:03:01.093851Z",
     "iopub.status.busy": "2024-02-29T19:03:01.093045Z",
     "iopub.status.idle": "2024-02-29T19:03:01.097345Z",
     "shell.execute_reply": "2024-02-29T19:03:01.096488Z"
    },
    "papermill": {
     "duration": 0.028145,
     "end_time": "2024-02-29T19:03:01.099323",
     "exception": false,
     "start_time": "2024-02-29T19:03:01.071178",
     "status": "completed"
    },
    "tags": []
   },
   "outputs": [],
   "source": [
    "import tensorflow as tf\n",
    "from tensorflow.keras import layers, models"
   ]
  },
  {
   "cell_type": "code",
   "execution_count": 10,
   "id": "ac3ad173",
   "metadata": {
    "execution": {
     "iopub.execute_input": "2024-02-29T19:03:01.142576Z",
     "iopub.status.busy": "2024-02-29T19:03:01.142216Z",
     "iopub.status.idle": "2024-02-29T19:03:01.168338Z",
     "shell.execute_reply": "2024-02-29T19:03:01.167416Z"
    },
    "papermill": {
     "duration": 0.050206,
     "end_time": "2024-02-29T19:03:01.170320",
     "exception": false,
     "start_time": "2024-02-29T19:03:01.120114",
     "status": "completed"
    },
    "tags": []
   },
   "outputs": [
    {
     "name": "stderr",
     "output_type": "stream",
     "text": [
      "/opt/conda/lib/python3.10/site-packages/keras/src/layers/reshaping/flatten.py:37: UserWarning: Do not pass an `input_shape`/`input_dim` argument to a layer. When using Sequential models, prefer using an `Input(shape)` object as the first layer in the model instead.\n",
      "  super().__init__(**kwargs)\n"
     ]
    }
   ],
   "source": [
    "# Build the backpropagation neural network\n",
    "model_bp = models.Sequential([\n",
    "    layers.Flatten(input_shape=(28, 28)),          # Input layer flattening 28x28 images\n",
    "    layers.Dense(128, activation='relu'),           # Hidden layer with 128 neurons and ReLU activation\n",
    "    layers.Dense(10, activation='softmax')          # Output layer with 10 neurons for 10 classes (for MNIST digits)\n",
    "])"
   ]
  },
  {
   "cell_type": "code",
   "execution_count": 11,
   "id": "f91f2e7e",
   "metadata": {
    "execution": {
     "iopub.execute_input": "2024-02-29T19:03:01.213025Z",
     "iopub.status.busy": "2024-02-29T19:03:01.212723Z",
     "iopub.status.idle": "2024-02-29T19:03:01.220845Z",
     "shell.execute_reply": "2024-02-29T19:03:01.220095Z"
    },
    "papermill": {
     "duration": 0.031885,
     "end_time": "2024-02-29T19:03:01.222901",
     "exception": false,
     "start_time": "2024-02-29T19:03:01.191016",
     "status": "completed"
    },
    "tags": []
   },
   "outputs": [],
   "source": [
    "# Compile the model with appropriate loss function and optimizer\n",
    "model_bp.compile(optimizer='sgd',                    # Stochastic Gradient Descent optimizer\n",
    "              loss='sparse_categorical_crossentropy',  # Use 'categorical_crossentropy' for one-hot encoded labels\n",
    "              metrics=['accuracy'])"
   ]
  },
  {
   "cell_type": "code",
   "execution_count": 12,
   "id": "1addd360",
   "metadata": {
    "execution": {
     "iopub.execute_input": "2024-02-29T19:03:01.265823Z",
     "iopub.status.busy": "2024-02-29T19:03:01.265531Z",
     "iopub.status.idle": "2024-02-29T19:03:15.764712Z",
     "shell.execute_reply": "2024-02-29T19:03:15.763829Z"
    },
    "papermill": {
     "duration": 14.523045,
     "end_time": "2024-02-29T19:03:15.766816",
     "exception": false,
     "start_time": "2024-02-29T19:03:01.243771",
     "status": "completed"
    },
    "tags": []
   },
   "outputs": [
    {
     "name": "stdout",
     "output_type": "stream",
     "text": [
      "Epoch 1/5\n",
      "\u001b[1m1875/1875\u001b[0m \u001b[32m━━━━━━━━━━━━━━━━━━━━\u001b[0m\u001b[37m\u001b[0m \u001b[1m3s\u001b[0m 1ms/step - accuracy: 0.7418 - loss: 1.0266\n",
      "Epoch 2/5\n",
      "\u001b[1m1875/1875\u001b[0m \u001b[32m━━━━━━━━━━━━━━━━━━━━\u001b[0m\u001b[37m\u001b[0m \u001b[1m3s\u001b[0m 1ms/step - accuracy: 0.9012 - loss: 0.3518\n",
      "Epoch 3/5\n",
      "\u001b[1m1875/1875\u001b[0m \u001b[32m━━━━━━━━━━━━━━━━━━━━\u001b[0m\u001b[37m\u001b[0m \u001b[1m3s\u001b[0m 1ms/step - accuracy: 0.9157 - loss: 0.2959\n",
      "Epoch 4/5\n",
      "\u001b[1m1875/1875\u001b[0m \u001b[32m━━━━━━━━━━━━━━━━━━━━\u001b[0m\u001b[37m\u001b[0m \u001b[1m3s\u001b[0m 1ms/step - accuracy: 0.9236 - loss: 0.2696\n",
      "Epoch 5/5\n",
      "\u001b[1m1875/1875\u001b[0m \u001b[32m━━━━━━━━━━━━━━━━━━━━\u001b[0m\u001b[37m\u001b[0m \u001b[1m3s\u001b[0m 1ms/step - accuracy: 0.9319 - loss: 0.2376\n"
     ]
    },
    {
     "data": {
      "text/plain": [
       "<keras.src.callbacks.history.History at 0x79d64c6db8e0>"
      ]
     },
     "execution_count": 12,
     "metadata": {},
     "output_type": "execute_result"
    }
   ],
   "source": [
    "# Train the model using backpropagation\n",
    "model_bp.fit(X_train, y_train, epochs=5, batch_size=32)"
   ]
  },
  {
   "cell_type": "code",
   "execution_count": 13,
   "id": "7640681f",
   "metadata": {
    "execution": {
     "iopub.execute_input": "2024-02-29T19:03:15.897088Z",
     "iopub.status.busy": "2024-02-29T19:03:15.896727Z",
     "iopub.status.idle": "2024-02-29T19:03:17.116059Z",
     "shell.execute_reply": "2024-02-29T19:03:17.114994Z"
    },
    "papermill": {
     "duration": 1.265862,
     "end_time": "2024-02-29T19:03:17.118084",
     "exception": false,
     "start_time": "2024-02-29T19:03:15.852222",
     "status": "completed"
    },
    "tags": []
   },
   "outputs": [
    {
     "name": "stdout",
     "output_type": "stream",
     "text": [
      "\u001b[1m313/313\u001b[0m \u001b[32m━━━━━━━━━━━━━━━━━━━━\u001b[0m\u001b[37m\u001b[0m \u001b[1m1s\u001b[0m 2ms/step - accuracy: 0.9262 - loss: 0.2568\n",
      "Test Accuracy: 0.9366999864578247\n"
     ]
    }
   ],
   "source": [
    "# Evaluate the model\n",
    "test_loss, test_acc = model_bp.evaluate(X_test, y_test)\n",
    "print(f'Test Accuracy: {test_acc}')"
   ]
  },
  {
   "cell_type": "code",
   "execution_count": 14,
   "id": "cdb71680",
   "metadata": {
    "execution": {
     "iopub.execute_input": "2024-02-29T19:03:17.211531Z",
     "iopub.status.busy": "2024-02-29T19:03:17.210696Z",
     "iopub.status.idle": "2024-02-29T19:03:18.367717Z",
     "shell.execute_reply": "2024-02-29T19:03:18.366411Z"
    },
    "papermill": {
     "duration": 1.205887,
     "end_time": "2024-02-29T19:03:18.370111",
     "exception": false,
     "start_time": "2024-02-29T19:03:17.164224",
     "status": "completed"
    },
    "tags": []
   },
   "outputs": [
    {
     "name": "stdout",
     "output_type": "stream",
     "text": [
      "\u001b[1m313/313\u001b[0m \u001b[32m━━━━━━━━━━━━━━━━━━━━\u001b[0m\u001b[37m\u001b[0m \u001b[1m1s\u001b[0m 2ms/step\n",
      "Mean Absolute Error (MAE): 0.2438\n",
      "Mean Square Error (MSE): 1.2074\n",
      "R Squared Error: 0.8560081437996698\n"
     ]
    }
   ],
   "source": [
    "from sklearn.metrics import mean_absolute_error, mean_squared_error, r2_score\n",
    "\n",
    "# Making predictions on the test set\n",
    "y_pred = model_bp.predict(X_test)\n",
    "\n",
    "y_pred_labels = tf.argmax(y_pred, axis=1)\n",
    "\n",
    "mae = mean_absolute_error(y_test, y_pred_labels)\n",
    "print(f'Mean Absolute Error (MAE): {mae}')\n",
    "\n",
    "mse = mean_squared_error(y_test, y_pred_labels)\n",
    "print(f'Mean Square Error (MSE): {mse}')\n",
    "\n",
    "r2 = r2_score(y_test, y_pred_labels)\n",
    "print(f'R Squared Error: {r2}')"
   ]
  },
  {
   "cell_type": "markdown",
   "id": "b76ceeea",
   "metadata": {
    "papermill": {
     "duration": 0.046429,
     "end_time": "2024-02-29T19:03:18.463074",
     "exception": false,
     "start_time": "2024-02-29T19:03:18.416645",
     "status": "completed"
    },
    "tags": []
   },
   "source": [
    "# Multi-Layered Perceptron"
   ]
  },
  {
   "cell_type": "code",
   "execution_count": 15,
   "id": "527afbf6",
   "metadata": {
    "execution": {
     "iopub.execute_input": "2024-02-29T19:03:18.553589Z",
     "iopub.status.busy": "2024-02-29T19:03:18.553215Z",
     "iopub.status.idle": "2024-02-29T19:03:18.557560Z",
     "shell.execute_reply": "2024-02-29T19:03:18.556710Z"
    },
    "papermill": {
     "duration": 0.051942,
     "end_time": "2024-02-29T19:03:18.559495",
     "exception": false,
     "start_time": "2024-02-29T19:03:18.507553",
     "status": "completed"
    },
    "tags": []
   },
   "outputs": [],
   "source": [
    "import tensorflow as tf\n",
    "from tensorflow.keras import layers, models"
   ]
  },
  {
   "cell_type": "code",
   "execution_count": 16,
   "id": "0099b315",
   "metadata": {
    "execution": {
     "iopub.execute_input": "2024-02-29T19:03:18.650499Z",
     "iopub.status.busy": "2024-02-29T19:03:18.650184Z",
     "iopub.status.idle": "2024-02-29T19:03:18.680315Z",
     "shell.execute_reply": "2024-02-29T19:03:18.679317Z"
    },
    "papermill": {
     "duration": 0.078149,
     "end_time": "2024-02-29T19:03:18.682215",
     "exception": false,
     "start_time": "2024-02-29T19:03:18.604066",
     "status": "completed"
    },
    "tags": []
   },
   "outputs": [
    {
     "name": "stderr",
     "output_type": "stream",
     "text": [
      "/opt/conda/lib/python3.10/site-packages/keras/src/layers/reshaping/flatten.py:37: UserWarning: Do not pass an `input_shape`/`input_dim` argument to a layer. When using Sequential models, prefer using an `Input(shape)` object as the first layer in the model instead.\n",
      "  super().__init__(**kwargs)\n"
     ]
    }
   ],
   "source": [
    "#Building the multilayer perceptron (MLP)\n",
    "model_mlp = models.Sequential([\n",
    "    layers.Flatten(input_shape=(28, 28)),      # Input layer flattening 28x28 images\n",
    "    layers.Dense(128, activation='relu'),       # First hidden layer with 128 neurons and ReLU activation\n",
    "    layers.Dense(64, activation='relu'),        # Second hidden layer with 64 neurons and ReLU activation\n",
    "    layers.Dense(10, activation='softmax')      # Output layer with 10 neurons for 10 classes (for MNIST digits)\n",
    "])"
   ]
  },
  {
   "cell_type": "code",
   "execution_count": 17,
   "id": "5facb07a",
   "metadata": {
    "execution": {
     "iopub.execute_input": "2024-02-29T19:03:18.773913Z",
     "iopub.status.busy": "2024-02-29T19:03:18.773173Z",
     "iopub.status.idle": "2024-02-29T19:03:18.780975Z",
     "shell.execute_reply": "2024-02-29T19:03:18.780220Z"
    },
    "papermill": {
     "duration": 0.055591,
     "end_time": "2024-02-29T19:03:18.782758",
     "exception": false,
     "start_time": "2024-02-29T19:03:18.727167",
     "status": "completed"
    },
    "tags": []
   },
   "outputs": [],
   "source": [
    "# Compiling the model with appropriate loss function and optimizer\n",
    "model_mlp.compile(optimizer='adam',\n",
    "              loss='sparse_categorical_crossentropy',  # Use 'categorical_crossentropy' for one-hot encoded labels\n",
    "              metrics=['accuracy'])"
   ]
  },
  {
   "cell_type": "code",
   "execution_count": 18,
   "id": "a4609680",
   "metadata": {
    "execution": {
     "iopub.execute_input": "2024-02-29T19:03:18.873880Z",
     "iopub.status.busy": "2024-02-29T19:03:18.873120Z",
     "iopub.status.idle": "2024-02-29T19:03:35.140381Z",
     "shell.execute_reply": "2024-02-29T19:03:35.139482Z"
    },
    "papermill": {
     "duration": 16.315383,
     "end_time": "2024-02-29T19:03:35.142304",
     "exception": false,
     "start_time": "2024-02-29T19:03:18.826921",
     "status": "completed"
    },
    "tags": []
   },
   "outputs": [
    {
     "name": "stdout",
     "output_type": "stream",
     "text": [
      "Epoch 1/5\n",
      "\u001b[1m1875/1875\u001b[0m \u001b[32m━━━━━━━━━━━━━━━━━━━━\u001b[0m\u001b[37m\u001b[0m \u001b[1m4s\u001b[0m 1ms/step - accuracy: 0.8773 - loss: 0.4195\n",
      "Epoch 2/5\n",
      "\u001b[1m1875/1875\u001b[0m \u001b[32m━━━━━━━━━━━━━━━━━━━━\u001b[0m\u001b[37m\u001b[0m \u001b[1m3s\u001b[0m 1ms/step - accuracy: 0.9696 - loss: 0.0994\n",
      "Epoch 3/5\n",
      "\u001b[1m1875/1875\u001b[0m \u001b[32m━━━━━━━━━━━━━━━━━━━━\u001b[0m\u001b[37m\u001b[0m \u001b[1m3s\u001b[0m 2ms/step - accuracy: 0.9783 - loss: 0.0694\n",
      "Epoch 4/5\n",
      "\u001b[1m1875/1875\u001b[0m \u001b[32m━━━━━━━━━━━━━━━━━━━━\u001b[0m\u001b[37m\u001b[0m \u001b[1m3s\u001b[0m 2ms/step - accuracy: 0.9833 - loss: 0.0512\n",
      "Epoch 5/5\n",
      "\u001b[1m1875/1875\u001b[0m \u001b[32m━━━━━━━━━━━━━━━━━━━━\u001b[0m\u001b[37m\u001b[0m \u001b[1m3s\u001b[0m 2ms/step - accuracy: 0.9868 - loss: 0.0406\n"
     ]
    },
    {
     "data": {
      "text/plain": [
       "<keras.src.callbacks.history.History at 0x79d64c492d70>"
      ]
     },
     "execution_count": 18,
     "metadata": {},
     "output_type": "execute_result"
    }
   ],
   "source": [
    "# Training the MLP model\n",
    "model_mlp.fit(X_train, y_train, epochs=5, batch_size=32)"
   ]
  },
  {
   "cell_type": "code",
   "execution_count": 19,
   "id": "6e4f5ef9",
   "metadata": {
    "execution": {
     "iopub.execute_input": "2024-02-29T19:03:35.280769Z",
     "iopub.status.busy": "2024-02-29T19:03:35.280064Z",
     "iopub.status.idle": "2024-02-29T19:03:36.510185Z",
     "shell.execute_reply": "2024-02-29T19:03:36.509204Z"
    },
    "papermill": {
     "duration": 1.301774,
     "end_time": "2024-02-29T19:03:36.512166",
     "exception": false,
     "start_time": "2024-02-29T19:03:35.210392",
     "status": "completed"
    },
    "tags": []
   },
   "outputs": [
    {
     "name": "stdout",
     "output_type": "stream",
     "text": [
      "\u001b[1m313/313\u001b[0m \u001b[32m━━━━━━━━━━━━━━━━━━━━\u001b[0m\u001b[37m\u001b[0m \u001b[1m1s\u001b[0m 2ms/step - accuracy: 0.9666 - loss: 0.1095\n",
      "Test Accuracy: 0.9713000059127808\n"
     ]
    }
   ],
   "source": [
    "# Evaluating the model\n",
    "test_loss, test_acc = model_mlp.evaluate(X_test, y_test)\n",
    "print(f'Test Accuracy: {test_acc}')"
   ]
  },
  {
   "cell_type": "code",
   "execution_count": 20,
   "id": "7fd876bb",
   "metadata": {
    "execution": {
     "iopub.execute_input": "2024-02-29T19:03:36.650538Z",
     "iopub.status.busy": "2024-02-29T19:03:36.649716Z",
     "iopub.status.idle": "2024-02-29T19:03:37.594882Z",
     "shell.execute_reply": "2024-02-29T19:03:37.593764Z"
    },
    "papermill": {
     "duration": 1.016619,
     "end_time": "2024-02-29T19:03:37.596895",
     "exception": false,
     "start_time": "2024-02-29T19:03:36.580276",
     "status": "completed"
    },
    "tags": []
   },
   "outputs": [
    {
     "name": "stdout",
     "output_type": "stream",
     "text": [
      "\u001b[1m313/313\u001b[0m \u001b[32m━━━━━━━━━━━━━━━━━━━━\u001b[0m\u001b[37m\u001b[0m \u001b[1m1s\u001b[0m 2ms/step\n",
      "Mean Absolute Error (MAE): 0.1085\n",
      "Mean Square Error (MSE): 0.5321\n",
      "R Squared Error: 0.9365429296967073\n"
     ]
    }
   ],
   "source": [
    "from sklearn.metrics import mean_absolute_error, mean_squared_error, r2_score\n",
    "\n",
    "# Making predictions on the test set\n",
    "y_pred = model_mlp.predict(X_test)\n",
    "\n",
    "y_pred_labels = tf.argmax(y_pred, axis=1)\n",
    "\n",
    "mae = mean_absolute_error(y_test, y_pred_labels)\n",
    "print(f'Mean Absolute Error (MAE): {mae}')\n",
    "\n",
    "mse = mean_squared_error(y_test, y_pred_labels)\n",
    "print(f'Mean Square Error (MSE): {mse}')\n",
    "\n",
    "r2 = r2_score(y_test, y_pred_labels)\n",
    "print(f'R Squared Error: {r2}')"
   ]
  },
  {
   "cell_type": "markdown",
   "id": "3eb19b73",
   "metadata": {
    "papermill": {
     "duration": 0.067861,
     "end_time": "2024-02-29T19:03:37.733386",
     "exception": false,
     "start_time": "2024-02-29T19:03:37.665525",
     "status": "completed"
    },
    "tags": []
   },
   "source": [
    "# Back Propagation Network"
   ]
  },
  {
   "cell_type": "code",
   "execution_count": 21,
   "id": "80fbe464",
   "metadata": {
    "execution": {
     "iopub.execute_input": "2024-02-29T19:03:37.872114Z",
     "iopub.status.busy": "2024-02-29T19:03:37.871736Z",
     "iopub.status.idle": "2024-02-29T19:03:37.895487Z",
     "shell.execute_reply": "2024-02-29T19:03:37.894502Z"
    },
    "papermill": {
     "duration": 0.09627,
     "end_time": "2024-02-29T19:03:37.898210",
     "exception": false,
     "start_time": "2024-02-29T19:03:37.801940",
     "status": "completed"
    },
    "tags": []
   },
   "outputs": [
    {
     "name": "stderr",
     "output_type": "stream",
     "text": [
      "/opt/conda/lib/python3.10/site-packages/keras/src/layers/reshaping/flatten.py:37: UserWarning: Do not pass an `input_shape`/`input_dim` argument to a layer. When using Sequential models, prefer using an `Input(shape)` object as the first layer in the model instead.\n",
      "  super().__init__(**kwargs)\n"
     ]
    }
   ],
   "source": [
    "# Build the backpropagation neural network with sigmoid activation\n",
    "model_bp_sigmoid = models.Sequential([\n",
    "    layers.Flatten(input_shape=(28, 28)),      # Input layer flattening 28x28 images\n",
    "    layers.Dense(128, activation='sigmoid'),   # Hidden layer with 128 neurons and Sigmoid activation\n",
    "    layers.Dense(10, activation='sigmoid')     # Output layer with 10 neurons for 10 classes (for MNIST digits)\n",
    "])"
   ]
  },
  {
   "cell_type": "code",
   "execution_count": 22,
   "id": "539c4c69",
   "metadata": {
    "execution": {
     "iopub.execute_input": "2024-02-29T19:03:38.038959Z",
     "iopub.status.busy": "2024-02-29T19:03:38.038585Z",
     "iopub.status.idle": "2024-02-29T19:03:38.046878Z",
     "shell.execute_reply": "2024-02-29T19:03:38.045963Z"
    },
    "papermill": {
     "duration": 0.08068,
     "end_time": "2024-02-29T19:03:38.048909",
     "exception": false,
     "start_time": "2024-02-29T19:03:37.968229",
     "status": "completed"
    },
    "tags": []
   },
   "outputs": [],
   "source": [
    "# Compile the model with appropriate loss function and optimizer\n",
    "model_bp_sigmoid.compile(optimizer='sgd',                    # Stochastic Gradient Descent optimizer\n",
    "              loss='sparse_categorical_crossentropy',  # Use 'categorical_crossentropy' for one-hot encoded labels\n",
    "              metrics=['accuracy'])"
   ]
  },
  {
   "cell_type": "code",
   "execution_count": 23,
   "id": "fd34dad3",
   "metadata": {
    "execution": {
     "iopub.execute_input": "2024-02-29T19:03:38.189736Z",
     "iopub.status.busy": "2024-02-29T19:03:38.189394Z",
     "iopub.status.idle": "2024-02-29T19:03:52.836603Z",
     "shell.execute_reply": "2024-02-29T19:03:52.835576Z"
    },
    "papermill": {
     "duration": 14.720054,
     "end_time": "2024-02-29T19:03:52.838737",
     "exception": false,
     "start_time": "2024-02-29T19:03:38.118683",
     "status": "completed"
    },
    "tags": []
   },
   "outputs": [
    {
     "name": "stdout",
     "output_type": "stream",
     "text": [
      "Epoch 1/5\n",
      "\u001b[1m1875/1875\u001b[0m \u001b[32m━━━━━━━━━━━━━━━━━━━━\u001b[0m\u001b[37m\u001b[0m \u001b[1m3s\u001b[0m 1ms/step - accuracy: 0.5442 - loss: 1.8418\n",
      "Epoch 2/5\n",
      "\u001b[1m1875/1875\u001b[0m \u001b[32m━━━━━━━━━━━━━━━━━━━━\u001b[0m\u001b[37m\u001b[0m \u001b[1m3s\u001b[0m 1ms/step - accuracy: 0.8360 - loss: 0.7835\n",
      "Epoch 3/5\n",
      "\u001b[1m1875/1875\u001b[0m \u001b[32m━━━━━━━━━━━━━━━━━━━━\u001b[0m\u001b[37m\u001b[0m \u001b[1m3s\u001b[0m 1ms/step - accuracy: 0.8677 - loss: 0.5493\n",
      "Epoch 4/5\n",
      "\u001b[1m1875/1875\u001b[0m \u001b[32m━━━━━━━━━━━━━━━━━━━━\u001b[0m\u001b[37m\u001b[0m \u001b[1m3s\u001b[0m 2ms/step - accuracy: 0.8810 - loss: 0.4663\n",
      "Epoch 5/5\n",
      "\u001b[1m1875/1875\u001b[0m \u001b[32m━━━━━━━━━━━━━━━━━━━━\u001b[0m\u001b[37m\u001b[0m \u001b[1m3s\u001b[0m 1ms/step - accuracy: 0.8887 - loss: 0.4168\n"
     ]
    },
    {
     "data": {
      "text/plain": [
       "<keras.src.callbacks.history.History at 0x79d64c315150>"
      ]
     },
     "execution_count": 23,
     "metadata": {},
     "output_type": "execute_result"
    }
   ],
   "source": [
    "# Train the model using backpropagation\n",
    "model_bp_sigmoid.fit(X_train, y_train, epochs=5, batch_size=32)"
   ]
  },
  {
   "cell_type": "code",
   "execution_count": 24,
   "id": "2c9d88a8",
   "metadata": {
    "execution": {
     "iopub.execute_input": "2024-02-29T19:03:53.026480Z",
     "iopub.status.busy": "2024-02-29T19:03:53.025741Z",
     "iopub.status.idle": "2024-02-29T19:03:54.187272Z",
     "shell.execute_reply": "2024-02-29T19:03:54.186314Z"
    },
    "papermill": {
     "duration": 1.257994,
     "end_time": "2024-02-29T19:03:54.189226",
     "exception": false,
     "start_time": "2024-02-29T19:03:52.931232",
     "status": "completed"
    },
    "tags": []
   },
   "outputs": [
    {
     "name": "stdout",
     "output_type": "stream",
     "text": [
      "\u001b[1m313/313\u001b[0m \u001b[32m━━━━━━━━━━━━━━━━━━━━\u001b[0m\u001b[37m\u001b[0m \u001b[1m1s\u001b[0m 2ms/step - accuracy: 0.8840 - loss: 0.4265\n",
      "Test Accuracy: 0.8998000025749207\n"
     ]
    }
   ],
   "source": [
    "# Evaluate the model\n",
    "test_loss, test_acc = model_bp_sigmoid.evaluate(X_test, y_test)\n",
    "print(f'Test Accuracy: {test_acc}')"
   ]
  },
  {
   "cell_type": "code",
   "execution_count": 25,
   "id": "59eb5131",
   "metadata": {
    "execution": {
     "iopub.execute_input": "2024-02-29T19:03:54.376431Z",
     "iopub.status.busy": "2024-02-29T19:03:54.375543Z",
     "iopub.status.idle": "2024-02-29T19:03:55.204734Z",
     "shell.execute_reply": "2024-02-29T19:03:55.203658Z"
    },
    "papermill": {
     "duration": 0.925223,
     "end_time": "2024-02-29T19:03:55.206703",
     "exception": false,
     "start_time": "2024-02-29T19:03:54.281480",
     "status": "completed"
    },
    "tags": []
   },
   "outputs": [
    {
     "name": "stdout",
     "output_type": "stream",
     "text": [
      "\u001b[1m313/313\u001b[0m \u001b[32m━━━━━━━━━━━━━━━━━━━━\u001b[0m\u001b[37m\u001b[0m \u001b[1m1s\u001b[0m 2ms/step\n",
      "Mean Absolute Error (MAE): 0.3727\n",
      "Mean Square Error (MSE): 1.8057\n",
      "R Squared Error: 0.7846562077679841\n"
     ]
    }
   ],
   "source": [
    "from sklearn.metrics import mean_absolute_error, mean_squared_error, r2_score\n",
    "\n",
    "# Making predictions on the test set\n",
    "y_pred = model_bp_sigmoid.predict(X_test)\n",
    "\n",
    "y_pred_labels = tf.argmax(y_pred, axis=1)\n",
    "\n",
    "mae = mean_absolute_error(y_test, y_pred_labels)\n",
    "print(f'Mean Absolute Error (MAE): {mae}')\n",
    "\n",
    "mse = mean_squared_error(y_test, y_pred_labels)\n",
    "print(f'Mean Square Error (MSE): {mse}')\n",
    "\n",
    "r2 = r2_score(y_test, y_pred_labels)\n",
    "print(f'R Squared Error: {r2}')"
   ]
  },
  {
   "cell_type": "markdown",
   "id": "4bb3d23e",
   "metadata": {
    "papermill": {
     "duration": 0.091671,
     "end_time": "2024-02-29T19:03:55.392314",
     "exception": false,
     "start_time": "2024-02-29T19:03:55.300643",
     "status": "completed"
    },
    "tags": []
   },
   "source": [
    "# Multi-Layered Perceptron"
   ]
  },
  {
   "cell_type": "code",
   "execution_count": 26,
   "id": "0642d34a",
   "metadata": {
    "execution": {
     "iopub.execute_input": "2024-02-29T19:03:55.578367Z",
     "iopub.status.busy": "2024-02-29T19:03:55.578022Z",
     "iopub.status.idle": "2024-02-29T19:03:55.582409Z",
     "shell.execute_reply": "2024-02-29T19:03:55.581506Z"
    },
    "papermill": {
     "duration": 0.099707,
     "end_time": "2024-02-29T19:03:55.584230",
     "exception": false,
     "start_time": "2024-02-29T19:03:55.484523",
     "status": "completed"
    },
    "tags": []
   },
   "outputs": [],
   "source": [
    "import tensorflow as tf\n",
    "from tensorflow.keras import layers, models"
   ]
  },
  {
   "cell_type": "code",
   "execution_count": 27,
   "id": "cc764e58",
   "metadata": {
    "execution": {
     "iopub.execute_input": "2024-02-29T19:03:55.769718Z",
     "iopub.status.busy": "2024-02-29T19:03:55.769397Z",
     "iopub.status.idle": "2024-02-29T19:03:55.799775Z",
     "shell.execute_reply": "2024-02-29T19:03:55.798892Z"
    },
    "papermill": {
     "duration": 0.124965,
     "end_time": "2024-02-29T19:03:55.801729",
     "exception": false,
     "start_time": "2024-02-29T19:03:55.676764",
     "status": "completed"
    },
    "tags": []
   },
   "outputs": [
    {
     "name": "stderr",
     "output_type": "stream",
     "text": [
      "/opt/conda/lib/python3.10/site-packages/keras/src/layers/reshaping/flatten.py:37: UserWarning: Do not pass an `input_shape`/`input_dim` argument to a layer. When using Sequential models, prefer using an `Input(shape)` object as the first layer in the model instead.\n",
      "  super().__init__(**kwargs)\n"
     ]
    }
   ],
   "source": [
    "# Building the multilayer perceptron (MLP) with sigmoid activation\n",
    "model_mlp_sigmoid = models.Sequential([\n",
    "    layers.Flatten(input_shape=(28, 28)),      # Input layer flattening 28x28 images\n",
    "    layers.Dense(128, activation='sigmoid'),   # First hidden layer with 128 neurons and Sigmoid activation\n",
    "    layers.Dense(64, activation='sigmoid'),    # Second hidden layer with 64 neurons and Sigmoid activation\n",
    "    layers.Dense(10, activation='sigmoid')      # Output layer with 10 neurons for 10 classes (for MNIST digits)\n",
    "])"
   ]
  },
  {
   "cell_type": "code",
   "execution_count": 28,
   "id": "36daa2d9",
   "metadata": {
    "execution": {
     "iopub.execute_input": "2024-02-29T19:03:55.990013Z",
     "iopub.status.busy": "2024-02-29T19:03:55.989630Z",
     "iopub.status.idle": "2024-02-29T19:03:55.997721Z",
     "shell.execute_reply": "2024-02-29T19:03:55.996978Z"
    },
    "papermill": {
     "duration": 0.10524,
     "end_time": "2024-02-29T19:03:55.999759",
     "exception": false,
     "start_time": "2024-02-29T19:03:55.894519",
     "status": "completed"
    },
    "tags": []
   },
   "outputs": [],
   "source": [
    "# Compiling the model with appropriate loss function and optimizer\n",
    "model_mlp_sigmoid.compile(optimizer='adam',\n",
    "              loss='sparse_categorical_crossentropy',  # Use 'categorical_crossentropy' for one-hot encoded labels\n",
    "              metrics=['accuracy'])"
   ]
  },
  {
   "cell_type": "code",
   "execution_count": 29,
   "id": "0322827c",
   "metadata": {
    "execution": {
     "iopub.execute_input": "2024-02-29T19:03:56.188024Z",
     "iopub.status.busy": "2024-02-29T19:03:56.187655Z",
     "iopub.status.idle": "2024-02-29T19:04:12.687322Z",
     "shell.execute_reply": "2024-02-29T19:04:12.686207Z"
    },
    "papermill": {
     "duration": 16.596057,
     "end_time": "2024-02-29T19:04:12.689526",
     "exception": false,
     "start_time": "2024-02-29T19:03:56.093469",
     "status": "completed"
    },
    "tags": []
   },
   "outputs": [
    {
     "name": "stdout",
     "output_type": "stream",
     "text": [
      "Epoch 1/5\n",
      "\u001b[1m1875/1875\u001b[0m \u001b[32m━━━━━━━━━━━━━━━━━━━━\u001b[0m\u001b[37m\u001b[0m \u001b[1m4s\u001b[0m 2ms/step - accuracy: 0.7807 - loss: 0.8549\n",
      "Epoch 2/5\n",
      "\u001b[1m1875/1875\u001b[0m \u001b[32m━━━━━━━━━━━━━━━━━━━━\u001b[0m\u001b[37m\u001b[0m \u001b[1m3s\u001b[0m 2ms/step - accuracy: 0.9463 - loss: 0.1844\n",
      "Epoch 3/5\n",
      "\u001b[1m1875/1875\u001b[0m \u001b[32m━━━━━━━━━━━━━━━━━━━━\u001b[0m\u001b[37m\u001b[0m \u001b[1m3s\u001b[0m 2ms/step - accuracy: 0.9614 - loss: 0.1313\n",
      "Epoch 4/5\n",
      "\u001b[1m1875/1875\u001b[0m \u001b[32m━━━━━━━━━━━━━━━━━━━━\u001b[0m\u001b[37m\u001b[0m \u001b[1m3s\u001b[0m 2ms/step - accuracy: 0.9738 - loss: 0.0911\n",
      "Epoch 5/5\n",
      "\u001b[1m1875/1875\u001b[0m \u001b[32m━━━━━━━━━━━━━━━━━━━━\u001b[0m\u001b[37m\u001b[0m \u001b[1m3s\u001b[0m 2ms/step - accuracy: 0.9790 - loss: 0.0688\n"
     ]
    },
    {
     "data": {
      "text/plain": [
       "<keras.src.callbacks.history.History at 0x79d64c203bb0>"
      ]
     },
     "execution_count": 29,
     "metadata": {},
     "output_type": "execute_result"
    }
   ],
   "source": [
    "# Training the MLP model\n",
    "model_mlp_sigmoid.fit(X_train, y_train, epochs=5, batch_size=32)"
   ]
  },
  {
   "cell_type": "code",
   "execution_count": 30,
   "id": "19ed4cee",
   "metadata": {
    "execution": {
     "iopub.execute_input": "2024-02-29T19:04:12.929123Z",
     "iopub.status.busy": "2024-02-29T19:04:12.928176Z",
     "iopub.status.idle": "2024-02-29T19:04:14.148878Z",
     "shell.execute_reply": "2024-02-29T19:04:14.147853Z"
    },
    "papermill": {
     "duration": 1.3422,
     "end_time": "2024-02-29T19:04:14.150789",
     "exception": false,
     "start_time": "2024-02-29T19:04:12.808589",
     "status": "completed"
    },
    "tags": []
   },
   "outputs": [
    {
     "name": "stdout",
     "output_type": "stream",
     "text": [
      "\u001b[1m313/313\u001b[0m \u001b[32m━━━━━━━━━━━━━━━━━━━━\u001b[0m\u001b[37m\u001b[0m \u001b[1m1s\u001b[0m 2ms/step - accuracy: 0.9682 - loss: 0.0975\n",
      "Test Accuracy: 0.9722999930381775\n"
     ]
    }
   ],
   "source": [
    "# Evaluating the model\n",
    "test_loss, test_acc = model_mlp_sigmoid.evaluate(X_test, y_test)\n",
    "print(f'Test Accuracy: {test_acc}')"
   ]
  },
  {
   "cell_type": "code",
   "execution_count": 31,
   "id": "587c0d19",
   "metadata": {
    "execution": {
     "iopub.execute_input": "2024-02-29T19:04:14.387956Z",
     "iopub.status.busy": "2024-02-29T19:04:14.387580Z",
     "iopub.status.idle": "2024-02-29T19:04:15.294551Z",
     "shell.execute_reply": "2024-02-29T19:04:15.293471Z"
    },
    "papermill": {
     "duration": 1.028057,
     "end_time": "2024-02-29T19:04:15.296580",
     "exception": false,
     "start_time": "2024-02-29T19:04:14.268523",
     "status": "completed"
    },
    "tags": []
   },
   "outputs": [
    {
     "name": "stdout",
     "output_type": "stream",
     "text": [
      "\u001b[1m313/313\u001b[0m \u001b[32m━━━━━━━━━━━━━━━━━━━━\u001b[0m\u001b[37m\u001b[0m \u001b[1m1s\u001b[0m 2ms/step\n",
      "Mean Absolute Error (MAE): 0.1063\n",
      "Mean Square Error (MSE): 0.5191\n",
      "R Squared Error: 0.9380932809726757\n"
     ]
    }
   ],
   "source": [
    "from sklearn.metrics import mean_absolute_error, mean_squared_error, r2_score\n",
    "\n",
    "# Making predictions on the test set\n",
    "y_pred = model_mlp_sigmoid.predict(X_test)\n",
    "\n",
    "y_pred_labels = tf.argmax(y_pred, axis=1)\n",
    "\n",
    "mae = mean_absolute_error(y_test, y_pred_labels)\n",
    "print(f'Mean Absolute Error (MAE): {mae}')\n",
    "\n",
    "mse = mean_squared_error(y_test, y_pred_labels)\n",
    "print(f'Mean Square Error (MSE): {mse}')\n",
    "\n",
    "r2 = r2_score(y_test, y_pred_labels)\n",
    "print(f'R Squared Error: {r2}')"
   ]
  },
  {
   "cell_type": "markdown",
   "id": "83c43631",
   "metadata": {
    "papermill": {
     "duration": 0.116675,
     "end_time": "2024-02-29T19:04:15.535031",
     "exception": false,
     "start_time": "2024-02-29T19:04:15.418356",
     "status": "completed"
    },
    "tags": []
   },
   "source": [
    "# Back Propagation Network"
   ]
  },
  {
   "cell_type": "code",
   "execution_count": 32,
   "id": "da3c38d5",
   "metadata": {
    "execution": {
     "iopub.execute_input": "2024-02-29T19:04:15.774222Z",
     "iopub.status.busy": "2024-02-29T19:04:15.773473Z",
     "iopub.status.idle": "2024-02-29T19:04:15.798695Z",
     "shell.execute_reply": "2024-02-29T19:04:15.797755Z"
    },
    "papermill": {
     "duration": 0.147896,
     "end_time": "2024-02-29T19:04:15.800877",
     "exception": false,
     "start_time": "2024-02-29T19:04:15.652981",
     "status": "completed"
    },
    "tags": []
   },
   "outputs": [
    {
     "name": "stderr",
     "output_type": "stream",
     "text": [
      "/opt/conda/lib/python3.10/site-packages/keras/src/layers/reshaping/flatten.py:37: UserWarning: Do not pass an `input_shape`/`input_dim` argument to a layer. When using Sequential models, prefer using an `Input(shape)` object as the first layer in the model instead.\n",
      "  super().__init__(**kwargs)\n"
     ]
    }
   ],
   "source": [
    "# Build the backpropagation neural network with tanh activation\n",
    "model_bp_tanh = models.Sequential([\n",
    "    layers.Flatten(input_shape=(28, 28)),      # Input layer flattening 28x28 images\n",
    "    layers.Dense(128, activation='tanh'),      # Hidden layer with 128 neurons and tanh activation\n",
    "    layers.Dense(10, activation='tanh')        # Output layer with 10 neurons for 10 classes (for MNIST digits)\n",
    "])"
   ]
  },
  {
   "cell_type": "code",
   "execution_count": 33,
   "id": "94b0024c",
   "metadata": {
    "execution": {
     "iopub.execute_input": "2024-02-29T19:04:16.043267Z",
     "iopub.status.busy": "2024-02-29T19:04:16.042910Z",
     "iopub.status.idle": "2024-02-29T19:04:16.051490Z",
     "shell.execute_reply": "2024-02-29T19:04:16.050611Z"
    },
    "papermill": {
     "duration": 0.131531,
     "end_time": "2024-02-29T19:04:16.053495",
     "exception": false,
     "start_time": "2024-02-29T19:04:15.921964",
     "status": "completed"
    },
    "tags": []
   },
   "outputs": [],
   "source": [
    "# Compile the model with appropriate loss function and optimizer\n",
    "model_bp_tanh.compile(optimizer='sgd',                    # Stochastic Gradient Descent optimizer\n",
    "              loss='sparse_categorical_crossentropy',  # Use 'categorical_crossentropy' for one-hot encoded labels\n",
    "              metrics=['accuracy'])"
   ]
  },
  {
   "cell_type": "code",
   "execution_count": 34,
   "id": "ebc40406",
   "metadata": {
    "execution": {
     "iopub.execute_input": "2024-02-29T19:04:16.290195Z",
     "iopub.status.busy": "2024-02-29T19:04:16.289757Z",
     "iopub.status.idle": "2024-02-29T19:04:31.353179Z",
     "shell.execute_reply": "2024-02-29T19:04:31.352297Z"
    },
    "papermill": {
     "duration": 15.184166,
     "end_time": "2024-02-29T19:04:31.355169",
     "exception": false,
     "start_time": "2024-02-29T19:04:16.171003",
     "status": "completed"
    },
    "tags": []
   },
   "outputs": [
    {
     "name": "stdout",
     "output_type": "stream",
     "text": [
      "Epoch 1/5\n",
      "\u001b[1m1875/1875\u001b[0m \u001b[32m━━━━━━━━━━━━━━━━━━━━\u001b[0m\u001b[37m\u001b[0m \u001b[1m4s\u001b[0m 2ms/step - accuracy: 0.1919 - loss: 2.2337\n",
      "Epoch 2/5\n",
      "\u001b[1m1875/1875\u001b[0m \u001b[32m━━━━━━━━━━━━━━━━━━━━\u001b[0m\u001b[37m\u001b[0m \u001b[1m3s\u001b[0m 1ms/step - accuracy: 0.1007 - loss: 2.1962\n",
      "Epoch 3/5\n",
      "\u001b[1m1875/1875\u001b[0m \u001b[32m━━━━━━━━━━━━━━━━━━━━\u001b[0m\u001b[37m\u001b[0m \u001b[1m3s\u001b[0m 1ms/step - accuracy: 0.0975 - loss: 2.2538\n",
      "Epoch 4/5\n",
      "\u001b[1m1875/1875\u001b[0m \u001b[32m━━━━━━━━━━━━━━━━━━━━\u001b[0m\u001b[37m\u001b[0m \u001b[1m3s\u001b[0m 1ms/step - accuracy: 0.0999 - loss: 2.2492\n",
      "Epoch 5/5\n",
      "\u001b[1m1875/1875\u001b[0m \u001b[32m━━━━━━━━━━━━━━━━━━━━\u001b[0m\u001b[37m\u001b[0m \u001b[1m3s\u001b[0m 1ms/step - accuracy: 0.1074 - loss: 2.3026\n"
     ]
    },
    {
     "data": {
      "text/plain": [
       "<keras.src.callbacks.history.History at 0x79d6245af280>"
      ]
     },
     "execution_count": 34,
     "metadata": {},
     "output_type": "execute_result"
    }
   ],
   "source": [
    "# Train the model using backpropagation\n",
    "model_bp_tanh.fit(X_train, y_train, epochs=5, batch_size=32)"
   ]
  },
  {
   "cell_type": "code",
   "execution_count": 35,
   "id": "e4028e3c",
   "metadata": {
    "execution": {
     "iopub.execute_input": "2024-02-29T19:04:31.638716Z",
     "iopub.status.busy": "2024-02-29T19:04:31.638364Z",
     "iopub.status.idle": "2024-02-29T19:04:32.831530Z",
     "shell.execute_reply": "2024-02-29T19:04:32.830412Z"
    },
    "papermill": {
     "duration": 1.337016,
     "end_time": "2024-02-29T19:04:32.833736",
     "exception": false,
     "start_time": "2024-02-29T19:04:31.496720",
     "status": "completed"
    },
    "tags": []
   },
   "outputs": [
    {
     "name": "stdout",
     "output_type": "stream",
     "text": [
      "\u001b[1m313/313\u001b[0m \u001b[32m━━━━━━━━━━━━━━━━━━━━\u001b[0m\u001b[37m\u001b[0m \u001b[1m1s\u001b[0m 2ms/step - accuracy: 0.1053 - loss: 2.3026\n",
      "Test Accuracy: 0.1031000018119812\n"
     ]
    }
   ],
   "source": [
    "# Evaluate the model\n",
    "test_loss, test_acc = model_bp_tanh.evaluate(X_test, y_test)\n",
    "print(f'Test Accuracy: {test_acc}')"
   ]
  },
  {
   "cell_type": "code",
   "execution_count": 36,
   "id": "1c0cf055",
   "metadata": {
    "execution": {
     "iopub.execute_input": "2024-02-29T19:04:33.151928Z",
     "iopub.status.busy": "2024-02-29T19:04:33.151122Z",
     "iopub.status.idle": "2024-02-29T19:04:33.991107Z",
     "shell.execute_reply": "2024-02-29T19:04:33.989898Z"
    },
    "papermill": {
     "duration": 0.99897,
     "end_time": "2024-02-29T19:04:33.993150",
     "exception": false,
     "start_time": "2024-02-29T19:04:32.994180",
     "status": "completed"
    },
    "tags": []
   },
   "outputs": [
    {
     "name": "stdout",
     "output_type": "stream",
     "text": [
      "\u001b[1m313/313\u001b[0m \u001b[32m━━━━━━━━━━━━━━━━━━━━\u001b[0m\u001b[37m\u001b[0m \u001b[1m1s\u001b[0m 2ms/step\n",
      "Mean Absolute Error (MAE): 2.5869\n",
      "Mean Square Error (MSE): 9.1347\n",
      "R Squared Error: -0.08938413850683746\n"
     ]
    }
   ],
   "source": [
    "from sklearn.metrics import mean_absolute_error, mean_squared_error, r2_score\n",
    "\n",
    "# Making predictions on the test set\n",
    "y_pred = model_bp_tanh.predict(X_test)\n",
    "\n",
    "y_pred_labels = tf.argmax(y_pred, axis=1)\n",
    "\n",
    "mae = mean_absolute_error(y_test, y_pred_labels)\n",
    "print(f'Mean Absolute Error (MAE): {mae}')\n",
    "\n",
    "mse = mean_squared_error(y_test, y_pred_labels)\n",
    "print(f'Mean Square Error (MSE): {mse}')\n",
    "\n",
    "r2 = r2_score(y_test, y_pred_labels)\n",
    "print(f'R Squared Error: {r2}')"
   ]
  },
  {
   "cell_type": "markdown",
   "id": "ad66d7a1",
   "metadata": {
    "papermill": {
     "duration": 0.184051,
     "end_time": "2024-02-29T19:04:34.322062",
     "exception": false,
     "start_time": "2024-02-29T19:04:34.138011",
     "status": "completed"
    },
    "tags": []
   },
   "source": [
    "# Multi-Layered Perceptron"
   ]
  },
  {
   "cell_type": "code",
   "execution_count": 37,
   "id": "299706c0",
   "metadata": {
    "execution": {
     "iopub.execute_input": "2024-02-29T19:04:34.608586Z",
     "iopub.status.busy": "2024-02-29T19:04:34.608197Z",
     "iopub.status.idle": "2024-02-29T19:04:34.639449Z",
     "shell.execute_reply": "2024-02-29T19:04:34.638472Z"
    },
    "papermill": {
     "duration": 0.178027,
     "end_time": "2024-02-29T19:04:34.641563",
     "exception": false,
     "start_time": "2024-02-29T19:04:34.463536",
     "status": "completed"
    },
    "tags": []
   },
   "outputs": [
    {
     "name": "stderr",
     "output_type": "stream",
     "text": [
      "/opt/conda/lib/python3.10/site-packages/keras/src/layers/reshaping/flatten.py:37: UserWarning: Do not pass an `input_shape`/`input_dim` argument to a layer. When using Sequential models, prefer using an `Input(shape)` object as the first layer in the model instead.\n",
      "  super().__init__(**kwargs)\n"
     ]
    }
   ],
   "source": [
    "# Building the multilayer perceptron (MLP) with tanh activation\n",
    "model_mlp_tanh = models.Sequential([\n",
    "    layers.Flatten(input_shape=(28, 28)),      # Input layer flattening 28x28 images\n",
    "    layers.Dense(128, activation='tanh'),      # First hidden layer with 128 neurons and tanh activation\n",
    "    layers.Dense(64, activation='tanh'),       # Second hidden layer with 64 neurons and tanh activation\n",
    "    layers.Dense(10, activation='tanh')        # Output layer with 10 neurons for 10 classes (for MNIST digits)\n",
    "])"
   ]
  },
  {
   "cell_type": "code",
   "execution_count": 38,
   "id": "1877b062",
   "metadata": {
    "execution": {
     "iopub.execute_input": "2024-02-29T19:04:34.930639Z",
     "iopub.status.busy": "2024-02-29T19:04:34.929607Z",
     "iopub.status.idle": "2024-02-29T19:04:34.937767Z",
     "shell.execute_reply": "2024-02-29T19:04:34.937072Z"
    },
    "papermill": {
     "duration": 0.155171,
     "end_time": "2024-02-29T19:04:34.939642",
     "exception": false,
     "start_time": "2024-02-29T19:04:34.784471",
     "status": "completed"
    },
    "tags": []
   },
   "outputs": [],
   "source": [
    "# Compiling the model with appropriate loss function and optimizer\n",
    "model_mlp_tanh.compile(optimizer='adam',\n",
    "              loss='sparse_categorical_crossentropy',  # Use 'categorical_crossentropy' for one-hot encoded labels\n",
    "              metrics=['accuracy'])"
   ]
  },
  {
   "cell_type": "code",
   "execution_count": 39,
   "id": "fa85d5be",
   "metadata": {
    "execution": {
     "iopub.execute_input": "2024-02-29T19:04:35.230267Z",
     "iopub.status.busy": "2024-02-29T19:04:35.229883Z",
     "iopub.status.idle": "2024-02-29T19:04:51.743017Z",
     "shell.execute_reply": "2024-02-29T19:04:51.741898Z"
    },
    "papermill": {
     "duration": 16.661222,
     "end_time": "2024-02-29T19:04:51.745077",
     "exception": false,
     "start_time": "2024-02-29T19:04:35.083855",
     "status": "completed"
    },
    "tags": []
   },
   "outputs": [
    {
     "name": "stdout",
     "output_type": "stream",
     "text": [
      "Epoch 1/5\n",
      "\u001b[1m1875/1875\u001b[0m \u001b[32m━━━━━━━━━━━━━━━━━━━━\u001b[0m\u001b[37m\u001b[0m \u001b[1m4s\u001b[0m 1ms/step - accuracy: 0.2892 - loss: 2.9855\n",
      "Epoch 2/5\n",
      "\u001b[1m1875/1875\u001b[0m \u001b[32m━━━━━━━━━━━━━━━━━━━━\u001b[0m\u001b[37m\u001b[0m \u001b[1m3s\u001b[0m 2ms/step - accuracy: 0.3300 - loss: 1.5000\n",
      "Epoch 3/5\n",
      "\u001b[1m1875/1875\u001b[0m \u001b[32m━━━━━━━━━━━━━━━━━━━━\u001b[0m\u001b[37m\u001b[0m \u001b[1m3s\u001b[0m 2ms/step - accuracy: 0.5269 - loss: 1.8743\n",
      "Epoch 4/5\n",
      "\u001b[1m1875/1875\u001b[0m \u001b[32m━━━━━━━━━━━━━━━━━━━━\u001b[0m\u001b[37m\u001b[0m \u001b[1m3s\u001b[0m 2ms/step - accuracy: 0.7089 - loss: 1.2065\n",
      "Epoch 5/5\n",
      "\u001b[1m1875/1875\u001b[0m \u001b[32m━━━━━━━━━━━━━━━━━━━━\u001b[0m\u001b[37m\u001b[0m \u001b[1m3s\u001b[0m 2ms/step - accuracy: 0.5270 - loss: 2.0027\n"
     ]
    },
    {
     "data": {
      "text/plain": [
       "<keras.src.callbacks.history.History at 0x79d6244e32b0>"
      ]
     },
     "execution_count": 39,
     "metadata": {},
     "output_type": "execute_result"
    }
   ],
   "source": [
    "# Training the MLP model\n",
    "model_mlp_tanh.fit(X_train, y_train, epochs=5, batch_size=32)"
   ]
  },
  {
   "cell_type": "code",
   "execution_count": 40,
   "id": "fce8e552",
   "metadata": {
    "execution": {
     "iopub.execute_input": "2024-02-29T19:04:52.154176Z",
     "iopub.status.busy": "2024-02-29T19:04:52.153769Z",
     "iopub.status.idle": "2024-02-29T19:04:53.931586Z",
     "shell.execute_reply": "2024-02-29T19:04:53.930465Z"
    },
    "papermill": {
     "duration": 1.961798,
     "end_time": "2024-02-29T19:04:53.933754",
     "exception": false,
     "start_time": "2024-02-29T19:04:51.971956",
     "status": "completed"
    },
    "tags": []
   },
   "outputs": [
    {
     "name": "stdout",
     "output_type": "stream",
     "text": [
      "\u001b[1m313/313\u001b[0m \u001b[32m━━━━━━━━━━━━━━━━━━━━\u001b[0m\u001b[37m\u001b[0m \u001b[1m1s\u001b[0m 2ms/step - accuracy: 0.4459 - loss: 2.0978\n",
      "Test Accuracy: 0.45249998569488525\n"
     ]
    }
   ],
   "source": [
    "# Evaluating the model\n",
    "test_loss, test_acc = model_mlp_tanh.evaluate(X_test, y_test)\n",
    "print(f'Test Accuracy: {test_acc}')"
   ]
  },
  {
   "cell_type": "code",
   "execution_count": 41,
   "id": "f0e9e295",
   "metadata": {
    "execution": {
     "iopub.execute_input": "2024-02-29T19:04:54.273181Z",
     "iopub.status.busy": "2024-02-29T19:04:54.272752Z",
     "iopub.status.idle": "2024-02-29T19:04:55.177180Z",
     "shell.execute_reply": "2024-02-29T19:04:55.176127Z"
    },
    "papermill": {
     "duration": 1.076222,
     "end_time": "2024-02-29T19:04:55.179181",
     "exception": false,
     "start_time": "2024-02-29T19:04:54.102959",
     "status": "completed"
    },
    "tags": []
   },
   "outputs": [
    {
     "name": "stdout",
     "output_type": "stream",
     "text": [
      "\u001b[1m313/313\u001b[0m \u001b[32m━━━━━━━━━━━━━━━━━━━━\u001b[0m\u001b[37m\u001b[0m \u001b[1m1s\u001b[0m 2ms/step\n",
      "Mean Absolute Error (MAE): 2.0085\n",
      "Mean Square Error (MSE): 9.4239\n",
      "R Squared Error: -0.12387349150761229\n"
     ]
    }
   ],
   "source": [
    "from sklearn.metrics import mean_absolute_error, mean_squared_error, r2_score\n",
    "\n",
    "# Making predictions on the test set\n",
    "y_pred = model_mlp_tanh.predict(X_test)\n",
    "\n",
    "y_pred_labels = tf.argmax(y_pred, axis=1)\n",
    "\n",
    "mae = mean_absolute_error(y_test, y_pred_labels)\n",
    "print(f'Mean Absolute Error (MAE): {mae}')\n",
    "\n",
    "mse = mean_squared_error(y_test, y_pred_labels)\n",
    "print(f'Mean Square Error (MSE): {mse}')\n",
    "\n",
    "r2 = r2_score(y_test, y_pred_labels)\n",
    "print(f'R Squared Error: {r2}')"
   ]
  },
  {
   "cell_type": "markdown",
   "id": "a8b41698",
   "metadata": {
    "papermill": {
     "duration": 0.165999,
     "end_time": "2024-02-29T19:04:55.514987",
     "exception": false,
     "start_time": "2024-02-29T19:04:55.348988",
     "status": "completed"
    },
    "tags": []
   },
   "source": [
    "# Without Bias"
   ]
  },
  {
   "cell_type": "code",
   "execution_count": 42,
   "id": "c104fd47",
   "metadata": {
    "execution": {
     "iopub.execute_input": "2024-02-29T19:04:55.849223Z",
     "iopub.status.busy": "2024-02-29T19:04:55.848870Z",
     "iopub.status.idle": "2024-02-29T19:04:55.891517Z",
     "shell.execute_reply": "2024-02-29T19:04:55.890575Z"
    },
    "papermill": {
     "duration": 0.212608,
     "end_time": "2024-02-29T19:04:55.893721",
     "exception": false,
     "start_time": "2024-02-29T19:04:55.681113",
     "status": "completed"
    },
    "tags": []
   },
   "outputs": [
    {
     "name": "stderr",
     "output_type": "stream",
     "text": [
      "/opt/conda/lib/python3.10/site-packages/keras/src/layers/reshaping/flatten.py:37: UserWarning: Do not pass an `input_shape`/`input_dim` argument to a layer. When using Sequential models, prefer using an `Input(shape)` object as the first layer in the model instead.\n",
      "  super().__init__(**kwargs)\n"
     ]
    }
   ],
   "source": [
    "# Build the backpropagation neural network without bias\n",
    "model_bp_no_bias = models.Sequential([\n",
    "    layers.Flatten(input_shape=(28, 28)),      # Input layer flattening 28x28 images\n",
    "    layers.Dense(128, activation='sigmoid', use_bias=False),   # Hidden layer with 128 neurons and Sigmoid activation, no bias\n",
    "    layers.Dense(10, activation='sigmoid', use_bias=False)     # Output layer with 10 neurons for 10 classes (for MNIST digits), no bias\n",
    "])\n",
    "\n",
    "# Building the multilayer perceptron (MLP) without bias\n",
    "model_mlp_no_bias = models.Sequential([\n",
    "    layers.Flatten(input_shape=(28, 28)),      # Input layer flattening 28x28 images\n",
    "    layers.Dense(128, activation='sigmoid', use_bias=False),   # First hidden layer with 128 neurons and Sigmoid activation, no bias\n",
    "    layers.Dense(64, activation='sigmoid', use_bias=False),    # Second hidden layer with 64 neurons and Sigmoid activation, no bias\n",
    "    layers.Dense(10, activation='sigmoid', use_bias=False)      # Output layer with 10 neurons for 10 classes (for MNIST digits), no bias\n",
    "])"
   ]
  },
  {
   "cell_type": "code",
   "execution_count": 43,
   "id": "ede4ddcc",
   "metadata": {
    "execution": {
     "iopub.execute_input": "2024-02-29T19:04:56.232035Z",
     "iopub.status.busy": "2024-02-29T19:04:56.231679Z",
     "iopub.status.idle": "2024-02-29T19:04:56.242251Z",
     "shell.execute_reply": "2024-02-29T19:04:56.241464Z"
    },
    "papermill": {
     "duration": 0.18291,
     "end_time": "2024-02-29T19:04:56.244286",
     "exception": false,
     "start_time": "2024-02-29T19:04:56.061376",
     "status": "completed"
    },
    "tags": []
   },
   "outputs": [],
   "source": [
    "#Model Compiling (BP No Bias)\n",
    "model_bp_no_bias.compile(optimizer='sgd', loss='sparse_categorical_crossentropy', metrics=['accuracy'])\n",
    "#Model Compiling (MLP No Bias)\n",
    "model_mlp_no_bias.compile(optimizer='adam', loss='sparse_categorical_crossentropy', metrics=['accuracy'])"
   ]
  },
  {
   "cell_type": "code",
   "execution_count": 44,
   "id": "3cef5665",
   "metadata": {
    "execution": {
     "iopub.execute_input": "2024-02-29T19:04:56.589870Z",
     "iopub.status.busy": "2024-02-29T19:04:56.589527Z",
     "iopub.status.idle": "2024-02-29T19:05:28.276739Z",
     "shell.execute_reply": "2024-02-29T19:05:28.275771Z"
    },
    "papermill": {
     "duration": 31.862705,
     "end_time": "2024-02-29T19:05:28.278711",
     "exception": false,
     "start_time": "2024-02-29T19:04:56.416006",
     "status": "completed"
    },
    "tags": []
   },
   "outputs": [
    {
     "name": "stdout",
     "output_type": "stream",
     "text": [
      "Epoch 1/5\n",
      "\u001b[1m1875/1875\u001b[0m \u001b[32m━━━━━━━━━━━━━━━━━━━━\u001b[0m\u001b[37m\u001b[0m \u001b[1m3s\u001b[0m 1ms/step - accuracy: 0.5389 - loss: 1.8429\n",
      "Epoch 2/5\n",
      "\u001b[1m1875/1875\u001b[0m \u001b[32m━━━━━━━━━━━━━━━━━━━━\u001b[0m\u001b[37m\u001b[0m \u001b[1m3s\u001b[0m 1ms/step - accuracy: 0.8408 - loss: 0.7761\n",
      "Epoch 3/5\n",
      "\u001b[1m1875/1875\u001b[0m \u001b[32m━━━━━━━━━━━━━━━━━━━━\u001b[0m\u001b[37m\u001b[0m \u001b[1m3s\u001b[0m 1ms/step - accuracy: 0.8735 - loss: 0.5449\n",
      "Epoch 4/5\n",
      "\u001b[1m1875/1875\u001b[0m \u001b[32m━━━━━━━━━━━━━━━━━━━━\u001b[0m\u001b[37m\u001b[0m \u001b[1m3s\u001b[0m 1ms/step - accuracy: 0.8814 - loss: 0.4654\n",
      "Epoch 5/5\n",
      "\u001b[1m1875/1875\u001b[0m \u001b[32m━━━━━━━━━━━━━━━━━━━━\u001b[0m\u001b[37m\u001b[0m \u001b[1m3s\u001b[0m 1ms/step - accuracy: 0.8908 - loss: 0.4119\n",
      "Epoch 1/5\n",
      "\u001b[1m1875/1875\u001b[0m \u001b[32m━━━━━━━━━━━━━━━━━━━━\u001b[0m\u001b[37m\u001b[0m \u001b[1m4s\u001b[0m 1ms/step - accuracy: 0.7830 - loss: 0.8649\n",
      "Epoch 2/5\n",
      "\u001b[1m1875/1875\u001b[0m \u001b[32m━━━━━━━━━━━━━━━━━━━━\u001b[0m\u001b[37m\u001b[0m \u001b[1m3s\u001b[0m 1ms/step - accuracy: 0.9431 - loss: 0.1962\n",
      "Epoch 3/5\n",
      "\u001b[1m1875/1875\u001b[0m \u001b[32m━━━━━━━━━━━━━━━━━━━━\u001b[0m\u001b[37m\u001b[0m \u001b[1m3s\u001b[0m 1ms/step - accuracy: 0.9621 - loss: 0.1313\n",
      "Epoch 4/5\n",
      "\u001b[1m1875/1875\u001b[0m \u001b[32m━━━━━━━━━━━━━━━━━━━━\u001b[0m\u001b[37m\u001b[0m \u001b[1m3s\u001b[0m 2ms/step - accuracy: 0.9726 - loss: 0.0951\n",
      "Epoch 5/5\n",
      "\u001b[1m1875/1875\u001b[0m \u001b[32m━━━━━━━━━━━━━━━━━━━━\u001b[0m\u001b[37m\u001b[0m \u001b[1m5s\u001b[0m 1ms/step - accuracy: 0.9794 - loss: 0.0728\n"
     ]
    },
    {
     "data": {
      "text/plain": [
       "<keras.src.callbacks.history.History at 0x79d660238b80>"
      ]
     },
     "execution_count": 44,
     "metadata": {},
     "output_type": "execute_result"
    }
   ],
   "source": [
    "# Training the BP model\n",
    "model_bp_no_bias.fit(X_train, y_train, epochs=5, batch_size=32)\n",
    "# Training the MLP model\n",
    "model_mlp_no_bias.fit(X_train, y_train, epochs=5, batch_size=32)"
   ]
  },
  {
   "cell_type": "code",
   "execution_count": 45,
   "id": "f7d1e4bc",
   "metadata": {
    "execution": {
     "iopub.execute_input": "2024-02-29T19:05:28.709559Z",
     "iopub.status.busy": "2024-02-29T19:05:28.709208Z",
     "iopub.status.idle": "2024-02-29T19:05:30.941426Z",
     "shell.execute_reply": "2024-02-29T19:05:30.940542Z"
    },
    "papermill": {
     "duration": 2.451336,
     "end_time": "2024-02-29T19:05:30.943394",
     "exception": false,
     "start_time": "2024-02-29T19:05:28.492058",
     "status": "completed"
    },
    "tags": []
   },
   "outputs": [
    {
     "name": "stdout",
     "output_type": "stream",
     "text": [
      "\u001b[1m313/313\u001b[0m \u001b[32m━━━━━━━━━━━━━━━━━━━━\u001b[0m\u001b[37m\u001b[0m \u001b[1m1s\u001b[0m 2ms/step - accuracy: 0.8838 - loss: 0.4235\n",
      "Test Accuracy: 0.9004999995231628\n",
      "\u001b[1m313/313\u001b[0m \u001b[32m━━━━━━━━━━━━━━━━━━━━\u001b[0m\u001b[37m\u001b[0m \u001b[1m1s\u001b[0m 2ms/step - accuracy: 0.9696 - loss: 0.0960\n",
      "Test Accuracy: 0.9743000268936157\n"
     ]
    }
   ],
   "source": [
    "# Evaluating the model BP\n",
    "test_loss, test_acc = model_bp_no_bias.evaluate(X_test, y_test)\n",
    "print(f'Test Accuracy: {test_acc}')\n",
    "# Evaluating the model MLP\n",
    "test_loss, test_acc = model_mlp_no_bias.evaluate(X_test, y_test)\n",
    "print(f'Test Accuracy: {test_acc}')"
   ]
  },
  {
   "cell_type": "code",
   "execution_count": 46,
   "id": "b025e9be",
   "metadata": {
    "execution": {
     "iopub.execute_input": "2024-02-29T19:05:31.424387Z",
     "iopub.status.busy": "2024-02-29T19:05:31.423476Z",
     "iopub.status.idle": "2024-02-29T19:05:33.154642Z",
     "shell.execute_reply": "2024-02-29T19:05:33.153491Z"
    },
    "papermill": {
     "duration": 1.952852,
     "end_time": "2024-02-29T19:05:33.157090",
     "exception": false,
     "start_time": "2024-02-29T19:05:31.204238",
     "status": "completed"
    },
    "tags": []
   },
   "outputs": [
    {
     "name": "stdout",
     "output_type": "stream",
     "text": [
      "\u001b[1m313/313\u001b[0m \u001b[32m━━━━━━━━━━━━━━━━━━━━\u001b[0m\u001b[37m\u001b[0m \u001b[1m1s\u001b[0m 2ms/step\n",
      "Mean Absolute Error (MAE): 0.3695\n",
      "Mean Square Error (MSE): 1.7885\n",
      "R Squared Error: 0.7867074417638807\n",
      "\u001b[1m313/313\u001b[0m \u001b[32m━━━━━━━━━━━━━━━━━━━━\u001b[0m\u001b[37m\u001b[0m \u001b[1m1s\u001b[0m 2ms/step\n",
      "Mean Absolute Error (MAE): 0.0974\n",
      "Mean Square Error (MSE): 0.482\n",
      "R Squared Error: 0.9425177449987087\n"
     ]
    }
   ],
   "source": [
    "# Making predictions on the test set with BP model\n",
    "y_pred = model_bp_no_bias.predict(X_test)\n",
    "\n",
    "y_pred_labels = tf.argmax(y_pred, axis=1)\n",
    "\n",
    "mae = mean_absolute_error(y_test, y_pred_labels)\n",
    "print(f'Mean Absolute Error (MAE): {mae}')\n",
    "\n",
    "mse = mean_squared_error(y_test, y_pred_labels)\n",
    "print(f'Mean Square Error (MSE): {mse}')\n",
    "\n",
    "r2 = r2_score(y_test, y_pred_labels)\n",
    "print(f'R Squared Error: {r2}')\n",
    "\n",
    "# Making predictions on the test set with MLP model\n",
    "y_pred = model_mlp_no_bias.predict(X_test)\n",
    "\n",
    "y_pred_labels = tf.argmax(y_pred, axis=1)\n",
    "\n",
    "mae = mean_absolute_error(y_test, y_pred_labels)\n",
    "print(f'Mean Absolute Error (MAE): {mae}')\n",
    "\n",
    "mse = mean_squared_error(y_test, y_pred_labels)\n",
    "print(f'Mean Square Error (MSE): {mse}')\n",
    "\n",
    "r2 = r2_score(y_test, y_pred_labels)\n",
    "print(f'R Squared Error: {r2}')"
   ]
  },
  {
   "cell_type": "code",
   "execution_count": null,
   "id": "01de49f5",
   "metadata": {
    "papermill": {
     "duration": 0.216633,
     "end_time": "2024-02-29T19:05:33.595785",
     "exception": false,
     "start_time": "2024-02-29T19:05:33.379152",
     "status": "completed"
    },
    "tags": []
   },
   "outputs": [],
   "source": []
  },
  {
   "cell_type": "code",
   "execution_count": null,
   "id": "0bf10254",
   "metadata": {
    "papermill": {
     "duration": 0.217449,
     "end_time": "2024-02-29T19:05:34.030794",
     "exception": false,
     "start_time": "2024-02-29T19:05:33.813345",
     "status": "completed"
    },
    "tags": []
   },
   "outputs": [],
   "source": []
  }
 ],
 "metadata": {
  "kaggle": {
   "accelerator": "gpu",
   "dataSources": [],
   "dockerImageVersionId": 30664,
   "isGpuEnabled": true,
   "isInternetEnabled": true,
   "language": "python",
   "sourceType": "notebook"
  },
  "kernelspec": {
   "display_name": "Python 3",
   "language": "python",
   "name": "python3"
  },
  "language_info": {
   "codemirror_mode": {
    "name": "ipython",
    "version": 3
   },
   "file_extension": ".py",
   "mimetype": "text/x-python",
   "name": "python",
   "nbconvert_exporter": "python",
   "pygments_lexer": "ipython3",
   "version": "3.10.13"
  },
  "papermill": {
   "default_parameters": {},
   "duration": 182.417751,
   "end_time": "2024-02-29T19:05:37.090185",
   "environment_variables": {},
   "exception": null,
   "input_path": "__notebook__.ipynb",
   "output_path": "__notebook__.ipynb",
   "parameters": {},
   "start_time": "2024-02-29T19:02:34.672434",
   "version": "2.5.0"
  }
 },
 "nbformat": 4,
 "nbformat_minor": 5
}
